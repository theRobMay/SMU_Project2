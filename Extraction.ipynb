{
 "cells": [
  {
   "cell_type": "code",
   "execution_count": 39,
   "metadata": {
    "ExecuteTime": {
     "start_time": "2023-06-26T12:54:00.651929Z",
     "end_time": "2023-06-26T12:54:00.669945Z"
    }
   },
   "outputs": [],
   "source": [
    "# Import dependencies\n",
    "import pandas as pd\n",
    "import numpy as np\n",
    "import matplotlib.pyplot as plt\n",
    "import datetime\n",
    "import json\n",
    "pd.set_option('max_colwidth', 400)"
   ]
  },
  {
   "cell_type": "markdown",
   "metadata": {},
   "source": [
    "### Extract the crowdfunding.xlsx Data"
   ]
  },
  {
   "cell_type": "code",
   "execution_count": 9,
   "metadata": {
    "ExecuteTime": {
     "start_time": "2023-06-26T12:24:16.599929Z",
     "end_time": "2023-06-26T12:24:16.747065Z"
    }
   },
   "outputs": [
    {
     "data": {
      "text/plain": "   cf_id  contact_id                 company_name  \\\n0    147        4661   Baldwin, Riley and Jackson   \n1   1621        3765                     Odom Inc   \n2   1812        4187   Melton, Robinson and Fritz   \n3   2156        4941  Mcdonald, Gonzalez and Ross   \n4   1365        2199                Larson-Little   \n\n                                           blurb    goal  pledged     outcome  \\\n0           Pre-emptive tertiary standardization     100        0      failed   \n1               Managed bottom-line architecture    1400    14560  successful   \n2   Function-based leadingedge pricing structure  108400   142523  successful   \n3  Vision-oriented fresh-thinking conglomeration    4200     2477      failed   \n4                      Proactive foreground core    7600     5265      failed   \n\n   backers_count country currency  launched_at    deadline  staff_pick  \\\n0              0      CA      CAD   1581573600  1614578400       False   \n1            158      US      USD   1611554400  1621918800       False   \n2           1425      AU      AUD   1608184800  1640844000       False   \n3             24      US      USD   1634792400  1642399200       False   \n4             53      US      USD   1608530400  1629694800       False   \n\n   spotlight category & sub-category  \n0      False        food/food trucks  \n1       True              music/rock  \n2      False          technology/web  \n3      False              music/rock  \n4      False           theater/plays  ",
      "text/html": "<div>\n<style scoped>\n    .dataframe tbody tr th:only-of-type {\n        vertical-align: middle;\n    }\n\n    .dataframe tbody tr th {\n        vertical-align: top;\n    }\n\n    .dataframe thead th {\n        text-align: right;\n    }\n</style>\n<table border=\"1\" class=\"dataframe\">\n  <thead>\n    <tr style=\"text-align: right;\">\n      <th></th>\n      <th>cf_id</th>\n      <th>contact_id</th>\n      <th>company_name</th>\n      <th>blurb</th>\n      <th>goal</th>\n      <th>pledged</th>\n      <th>outcome</th>\n      <th>backers_count</th>\n      <th>country</th>\n      <th>currency</th>\n      <th>launched_at</th>\n      <th>deadline</th>\n      <th>staff_pick</th>\n      <th>spotlight</th>\n      <th>category &amp; sub-category</th>\n    </tr>\n  </thead>\n  <tbody>\n    <tr>\n      <th>0</th>\n      <td>147</td>\n      <td>4661</td>\n      <td>Baldwin, Riley and Jackson</td>\n      <td>Pre-emptive tertiary standardization</td>\n      <td>100</td>\n      <td>0</td>\n      <td>failed</td>\n      <td>0</td>\n      <td>CA</td>\n      <td>CAD</td>\n      <td>1581573600</td>\n      <td>1614578400</td>\n      <td>False</td>\n      <td>False</td>\n      <td>food/food trucks</td>\n    </tr>\n    <tr>\n      <th>1</th>\n      <td>1621</td>\n      <td>3765</td>\n      <td>Odom Inc</td>\n      <td>Managed bottom-line architecture</td>\n      <td>1400</td>\n      <td>14560</td>\n      <td>successful</td>\n      <td>158</td>\n      <td>US</td>\n      <td>USD</td>\n      <td>1611554400</td>\n      <td>1621918800</td>\n      <td>False</td>\n      <td>True</td>\n      <td>music/rock</td>\n    </tr>\n    <tr>\n      <th>2</th>\n      <td>1812</td>\n      <td>4187</td>\n      <td>Melton, Robinson and Fritz</td>\n      <td>Function-based leadingedge pricing structure</td>\n      <td>108400</td>\n      <td>142523</td>\n      <td>successful</td>\n      <td>1425</td>\n      <td>AU</td>\n      <td>AUD</td>\n      <td>1608184800</td>\n      <td>1640844000</td>\n      <td>False</td>\n      <td>False</td>\n      <td>technology/web</td>\n    </tr>\n    <tr>\n      <th>3</th>\n      <td>2156</td>\n      <td>4941</td>\n      <td>Mcdonald, Gonzalez and Ross</td>\n      <td>Vision-oriented fresh-thinking conglomeration</td>\n      <td>4200</td>\n      <td>2477</td>\n      <td>failed</td>\n      <td>24</td>\n      <td>US</td>\n      <td>USD</td>\n      <td>1634792400</td>\n      <td>1642399200</td>\n      <td>False</td>\n      <td>False</td>\n      <td>music/rock</td>\n    </tr>\n    <tr>\n      <th>4</th>\n      <td>1365</td>\n      <td>2199</td>\n      <td>Larson-Little</td>\n      <td>Proactive foreground core</td>\n      <td>7600</td>\n      <td>5265</td>\n      <td>failed</td>\n      <td>53</td>\n      <td>US</td>\n      <td>USD</td>\n      <td>1608530400</td>\n      <td>1629694800</td>\n      <td>False</td>\n      <td>False</td>\n      <td>theater/plays</td>\n    </tr>\n  </tbody>\n</table>\n</div>"
     },
     "execution_count": 9,
     "metadata": {},
     "output_type": "execute_result"
    }
   ],
   "source": [
    "# Read the data into a Pandas DataFrame\n",
    "crowdfunding_info_df = pd.read_excel('Resources/crowdfunding.xlsx')\n",
    "crowdfunding_info_df.head()"
   ]
  },
  {
   "cell_type": "code",
   "execution_count": 10,
   "metadata": {
    "ExecuteTime": {
     "start_time": "2023-06-26T12:24:17.613895Z",
     "end_time": "2023-06-26T12:24:17.632912Z"
    }
   },
   "outputs": [
    {
     "name": "stdout",
     "output_type": "stream",
     "text": [
      "<class 'pandas.core.frame.DataFrame'>\n",
      "RangeIndex: 1000 entries, 0 to 999\n",
      "Data columns (total 15 columns):\n",
      " #   Column                   Non-Null Count  Dtype \n",
      "---  ------                   --------------  ----- \n",
      " 0   cf_id                    1000 non-null   int64 \n",
      " 1   contact_id               1000 non-null   int64 \n",
      " 2   company_name             1000 non-null   object\n",
      " 3   blurb                    1000 non-null   object\n",
      " 4   goal                     1000 non-null   int64 \n",
      " 5   pledged                  1000 non-null   int64 \n",
      " 6   outcome                  1000 non-null   object\n",
      " 7   backers_count            1000 non-null   int64 \n",
      " 8   country                  1000 non-null   object\n",
      " 9   currency                 1000 non-null   object\n",
      " 10  launched_at              1000 non-null   int64 \n",
      " 11  deadline                 1000 non-null   int64 \n",
      " 12  staff_pick               1000 non-null   bool  \n",
      " 13  spotlight                1000 non-null   bool  \n",
      " 14  category & sub-category  1000 non-null   object\n",
      "dtypes: bool(2), int64(7), object(6)\n",
      "memory usage: 103.6+ KB\n"
     ]
    }
   ],
   "source": [
    "# Get a brief summary of the crowdfunding_info DataFrame.\n",
    "crowdfunding_info_df.info()"
   ]
  },
  {
   "cell_type": "markdown",
   "metadata": {},
   "source": [
    "### Create the Category and Subcategory DataFrames\n",
    "---\n",
    "**Create a Category DataFrame that has the following columns:**\n",
    "- A \"category_id\" column that is numbered sequential form 1 to the length of the number of unique categories.\n",
    "- A \"category\" column that has only the categories.\n",
    "\n",
    "Export the DataFrame as a `category.csv` CSV file.\n",
    "\n",
    "**Create a SubCategory DataFrame that has the following columns:**\n",
    "- A \"subcategory_id\" column that is numbered sequential form 1 to the length of the number of unique subcategories.\n",
    "- A \"subcategory\" column that has only the subcategories. \n",
    "\n",
    "Export the DataFrame as a `subcategory.csv` CSV file."
   ]
  },
  {
   "cell_type": "code",
   "execution_count": 11,
   "metadata": {
    "ExecuteTime": {
     "start_time": "2023-06-26T12:24:19.820784Z",
     "end_time": "2023-06-26T12:24:19.837790Z"
    }
   },
   "outputs": [
    {
     "data": {
      "text/plain": "['category', 'sub-category']"
     },
     "execution_count": 11,
     "metadata": {},
     "output_type": "execute_result"
    }
   ],
   "source": [
    "# Get the crowdfunding_info_df columns.\n",
    "cols = crowdfunding_info_df.columns[14].split(' & ')\n",
    "cols"
   ]
  },
  {
   "cell_type": "code",
   "execution_count": 12,
   "metadata": {
    "ExecuteTime": {
     "start_time": "2023-06-26T12:24:21.217912Z",
     "end_time": "2023-06-26T12:24:21.266947Z"
    }
   },
   "outputs": [
    {
     "data": {
      "text/plain": "     cf_id  contact_id                  company_name  \\\n0      147        4661    Baldwin, Riley and Jackson   \n1     1621        3765                      Odom Inc   \n2     1812        4187    Melton, Robinson and Fritz   \n3     2156        4941   Mcdonald, Gonzalez and Ross   \n4     1365        2199                 Larson-Little   \n..     ...         ...                           ...   \n995   2986        3684              Manning-Hamilton   \n996   2031        5784                    Butler LLC   \n997   1627        1498                      Ball LLC   \n998   2175        6073   Taylor, Santiago and Flores   \n999   1788        4939  Hernandez, Norton and Kelley   \n\n                                             blurb    goal  pledged  \\\n0             Pre-emptive tertiary standardization     100        0   \n1                 Managed bottom-line architecture    1400    14560   \n2     Function-based leadingedge pricing structure  108400   142523   \n3    Vision-oriented fresh-thinking conglomeration    4200     2477   \n4                        Proactive foreground core    7600     5265   \n..                                             ...     ...      ...   \n995            Vision-oriented scalable definition   97300   153216   \n996       Future-proofed upward-trending migration    6600     4814   \n997              Right-sized full-range throughput    7600     4603   \n998           Polarized composite customer loyalty   66600    37823   \n999                    Expanded eco-centric policy  111100    62819   \n\n        outcome  backers_count country currency  launched_at    deadline  \\\n0        failed              0      CA      CAD   1581573600  1614578400   \n1    successful            158      US      USD   1611554400  1621918800   \n2    successful           1425      AU      AUD   1608184800  1640844000   \n3        failed             24      US      USD   1634792400  1642399200   \n4        failed             53      US      USD   1608530400  1629694800   \n..          ...            ...     ...      ...          ...         ...   \n995  successful           2043      US      USD   1609221600  1622350800   \n996      failed            112      US      USD   1634274000  1638252000   \n997    canceled            139      IT      EUR   1636174800  1639116000   \n998      failed            374      US      USD   1602133200  1618117200   \n999    canceled           1122      US      USD   1609308000  1629262800   \n\n     staff_pick  spotlight category & sub-category    category  subcategory  \n0         False      False        food/food trucks        food  food trucks  \n1         False       True              music/rock       music         rock  \n2         False      False          technology/web  technology          web  \n3         False      False              music/rock       music         rock  \n4         False      False           theater/plays     theater        plays  \n..          ...        ...                     ...         ...          ...  \n995       False       True        food/food trucks        food  food trucks  \n996       False      False           theater/plays     theater        plays  \n997       False      False           theater/plays     theater        plays  \n998       False       True        music/indie rock       music   indie rock  \n999       False      False        food/food trucks        food  food trucks  \n\n[1000 rows x 17 columns]",
      "text/html": "<div>\n<style scoped>\n    .dataframe tbody tr th:only-of-type {\n        vertical-align: middle;\n    }\n\n    .dataframe tbody tr th {\n        vertical-align: top;\n    }\n\n    .dataframe thead th {\n        text-align: right;\n    }\n</style>\n<table border=\"1\" class=\"dataframe\">\n  <thead>\n    <tr style=\"text-align: right;\">\n      <th></th>\n      <th>cf_id</th>\n      <th>contact_id</th>\n      <th>company_name</th>\n      <th>blurb</th>\n      <th>goal</th>\n      <th>pledged</th>\n      <th>outcome</th>\n      <th>backers_count</th>\n      <th>country</th>\n      <th>currency</th>\n      <th>launched_at</th>\n      <th>deadline</th>\n      <th>staff_pick</th>\n      <th>spotlight</th>\n      <th>category &amp; sub-category</th>\n      <th>category</th>\n      <th>subcategory</th>\n    </tr>\n  </thead>\n  <tbody>\n    <tr>\n      <th>0</th>\n      <td>147</td>\n      <td>4661</td>\n      <td>Baldwin, Riley and Jackson</td>\n      <td>Pre-emptive tertiary standardization</td>\n      <td>100</td>\n      <td>0</td>\n      <td>failed</td>\n      <td>0</td>\n      <td>CA</td>\n      <td>CAD</td>\n      <td>1581573600</td>\n      <td>1614578400</td>\n      <td>False</td>\n      <td>False</td>\n      <td>food/food trucks</td>\n      <td>food</td>\n      <td>food trucks</td>\n    </tr>\n    <tr>\n      <th>1</th>\n      <td>1621</td>\n      <td>3765</td>\n      <td>Odom Inc</td>\n      <td>Managed bottom-line architecture</td>\n      <td>1400</td>\n      <td>14560</td>\n      <td>successful</td>\n      <td>158</td>\n      <td>US</td>\n      <td>USD</td>\n      <td>1611554400</td>\n      <td>1621918800</td>\n      <td>False</td>\n      <td>True</td>\n      <td>music/rock</td>\n      <td>music</td>\n      <td>rock</td>\n    </tr>\n    <tr>\n      <th>2</th>\n      <td>1812</td>\n      <td>4187</td>\n      <td>Melton, Robinson and Fritz</td>\n      <td>Function-based leadingedge pricing structure</td>\n      <td>108400</td>\n      <td>142523</td>\n      <td>successful</td>\n      <td>1425</td>\n      <td>AU</td>\n      <td>AUD</td>\n      <td>1608184800</td>\n      <td>1640844000</td>\n      <td>False</td>\n      <td>False</td>\n      <td>technology/web</td>\n      <td>technology</td>\n      <td>web</td>\n    </tr>\n    <tr>\n      <th>3</th>\n      <td>2156</td>\n      <td>4941</td>\n      <td>Mcdonald, Gonzalez and Ross</td>\n      <td>Vision-oriented fresh-thinking conglomeration</td>\n      <td>4200</td>\n      <td>2477</td>\n      <td>failed</td>\n      <td>24</td>\n      <td>US</td>\n      <td>USD</td>\n      <td>1634792400</td>\n      <td>1642399200</td>\n      <td>False</td>\n      <td>False</td>\n      <td>music/rock</td>\n      <td>music</td>\n      <td>rock</td>\n    </tr>\n    <tr>\n      <th>4</th>\n      <td>1365</td>\n      <td>2199</td>\n      <td>Larson-Little</td>\n      <td>Proactive foreground core</td>\n      <td>7600</td>\n      <td>5265</td>\n      <td>failed</td>\n      <td>53</td>\n      <td>US</td>\n      <td>USD</td>\n      <td>1608530400</td>\n      <td>1629694800</td>\n      <td>False</td>\n      <td>False</td>\n      <td>theater/plays</td>\n      <td>theater</td>\n      <td>plays</td>\n    </tr>\n    <tr>\n      <th>...</th>\n      <td>...</td>\n      <td>...</td>\n      <td>...</td>\n      <td>...</td>\n      <td>...</td>\n      <td>...</td>\n      <td>...</td>\n      <td>...</td>\n      <td>...</td>\n      <td>...</td>\n      <td>...</td>\n      <td>...</td>\n      <td>...</td>\n      <td>...</td>\n      <td>...</td>\n      <td>...</td>\n      <td>...</td>\n    </tr>\n    <tr>\n      <th>995</th>\n      <td>2986</td>\n      <td>3684</td>\n      <td>Manning-Hamilton</td>\n      <td>Vision-oriented scalable definition</td>\n      <td>97300</td>\n      <td>153216</td>\n      <td>successful</td>\n      <td>2043</td>\n      <td>US</td>\n      <td>USD</td>\n      <td>1609221600</td>\n      <td>1622350800</td>\n      <td>False</td>\n      <td>True</td>\n      <td>food/food trucks</td>\n      <td>food</td>\n      <td>food trucks</td>\n    </tr>\n    <tr>\n      <th>996</th>\n      <td>2031</td>\n      <td>5784</td>\n      <td>Butler LLC</td>\n      <td>Future-proofed upward-trending migration</td>\n      <td>6600</td>\n      <td>4814</td>\n      <td>failed</td>\n      <td>112</td>\n      <td>US</td>\n      <td>USD</td>\n      <td>1634274000</td>\n      <td>1638252000</td>\n      <td>False</td>\n      <td>False</td>\n      <td>theater/plays</td>\n      <td>theater</td>\n      <td>plays</td>\n    </tr>\n    <tr>\n      <th>997</th>\n      <td>1627</td>\n      <td>1498</td>\n      <td>Ball LLC</td>\n      <td>Right-sized full-range throughput</td>\n      <td>7600</td>\n      <td>4603</td>\n      <td>canceled</td>\n      <td>139</td>\n      <td>IT</td>\n      <td>EUR</td>\n      <td>1636174800</td>\n      <td>1639116000</td>\n      <td>False</td>\n      <td>False</td>\n      <td>theater/plays</td>\n      <td>theater</td>\n      <td>plays</td>\n    </tr>\n    <tr>\n      <th>998</th>\n      <td>2175</td>\n      <td>6073</td>\n      <td>Taylor, Santiago and Flores</td>\n      <td>Polarized composite customer loyalty</td>\n      <td>66600</td>\n      <td>37823</td>\n      <td>failed</td>\n      <td>374</td>\n      <td>US</td>\n      <td>USD</td>\n      <td>1602133200</td>\n      <td>1618117200</td>\n      <td>False</td>\n      <td>True</td>\n      <td>music/indie rock</td>\n      <td>music</td>\n      <td>indie rock</td>\n    </tr>\n    <tr>\n      <th>999</th>\n      <td>1788</td>\n      <td>4939</td>\n      <td>Hernandez, Norton and Kelley</td>\n      <td>Expanded eco-centric policy</td>\n      <td>111100</td>\n      <td>62819</td>\n      <td>canceled</td>\n      <td>1122</td>\n      <td>US</td>\n      <td>USD</td>\n      <td>1609308000</td>\n      <td>1629262800</td>\n      <td>False</td>\n      <td>False</td>\n      <td>food/food trucks</td>\n      <td>food</td>\n      <td>food trucks</td>\n    </tr>\n  </tbody>\n</table>\n<p>1000 rows × 17 columns</p>\n</div>"
     },
     "execution_count": 12,
     "metadata": {},
     "output_type": "execute_result"
    }
   ],
   "source": [
    "# Assign the category and subcategory values to category and subcategory columns.\n",
    "crowdfunding_info_df[['category','subcategory']] = crowdfunding_info_df['category & sub-category'].str.split('/',expand=True)\n",
    "crowdfunding_info_df"
   ]
  },
  {
   "cell_type": "code",
   "execution_count": 13,
   "outputs": [
    {
     "data": {
      "text/plain": "     cf_id  contact_id                  company_name  \\\n0      147        4661    Baldwin, Riley and Jackson   \n1     1621        3765                      Odom Inc   \n2     1812        4187    Melton, Robinson and Fritz   \n3     2156        4941   Mcdonald, Gonzalez and Ross   \n4     1365        2199                 Larson-Little   \n..     ...         ...                           ...   \n995   2986        3684              Manning-Hamilton   \n996   2031        5784                    Butler LLC   \n997   1627        1498                      Ball LLC   \n998   2175        6073   Taylor, Santiago and Flores   \n999   1788        4939  Hernandez, Norton and Kelley   \n\n                                             blurb    goal  pledged  \\\n0             Pre-emptive tertiary standardization     100        0   \n1                 Managed bottom-line architecture    1400    14560   \n2     Function-based leadingedge pricing structure  108400   142523   \n3    Vision-oriented fresh-thinking conglomeration    4200     2477   \n4                        Proactive foreground core    7600     5265   \n..                                             ...     ...      ...   \n995            Vision-oriented scalable definition   97300   153216   \n996       Future-proofed upward-trending migration    6600     4814   \n997              Right-sized full-range throughput    7600     4603   \n998           Polarized composite customer loyalty   66600    37823   \n999                    Expanded eco-centric policy  111100    62819   \n\n        outcome  backers_count country currency  launched_at    deadline  \\\n0        failed              0      CA      CAD   1581573600  1614578400   \n1    successful            158      US      USD   1611554400  1621918800   \n2    successful           1425      AU      AUD   1608184800  1640844000   \n3        failed             24      US      USD   1634792400  1642399200   \n4        failed             53      US      USD   1608530400  1629694800   \n..          ...            ...     ...      ...          ...         ...   \n995  successful           2043      US      USD   1609221600  1622350800   \n996      failed            112      US      USD   1634274000  1638252000   \n997    canceled            139      IT      EUR   1636174800  1639116000   \n998      failed            374      US      USD   1602133200  1618117200   \n999    canceled           1122      US      USD   1609308000  1629262800   \n\n     staff_pick  spotlight    category  subcategory  \n0         False      False        food  food trucks  \n1         False       True       music         rock  \n2         False      False  technology          web  \n3         False      False       music         rock  \n4         False      False     theater        plays  \n..          ...        ...         ...          ...  \n995       False       True        food  food trucks  \n996       False      False     theater        plays  \n997       False      False     theater        plays  \n998       False       True       music   indie rock  \n999       False      False        food  food trucks  \n\n[1000 rows x 16 columns]",
      "text/html": "<div>\n<style scoped>\n    .dataframe tbody tr th:only-of-type {\n        vertical-align: middle;\n    }\n\n    .dataframe tbody tr th {\n        vertical-align: top;\n    }\n\n    .dataframe thead th {\n        text-align: right;\n    }\n</style>\n<table border=\"1\" class=\"dataframe\">\n  <thead>\n    <tr style=\"text-align: right;\">\n      <th></th>\n      <th>cf_id</th>\n      <th>contact_id</th>\n      <th>company_name</th>\n      <th>blurb</th>\n      <th>goal</th>\n      <th>pledged</th>\n      <th>outcome</th>\n      <th>backers_count</th>\n      <th>country</th>\n      <th>currency</th>\n      <th>launched_at</th>\n      <th>deadline</th>\n      <th>staff_pick</th>\n      <th>spotlight</th>\n      <th>category</th>\n      <th>subcategory</th>\n    </tr>\n  </thead>\n  <tbody>\n    <tr>\n      <th>0</th>\n      <td>147</td>\n      <td>4661</td>\n      <td>Baldwin, Riley and Jackson</td>\n      <td>Pre-emptive tertiary standardization</td>\n      <td>100</td>\n      <td>0</td>\n      <td>failed</td>\n      <td>0</td>\n      <td>CA</td>\n      <td>CAD</td>\n      <td>1581573600</td>\n      <td>1614578400</td>\n      <td>False</td>\n      <td>False</td>\n      <td>food</td>\n      <td>food trucks</td>\n    </tr>\n    <tr>\n      <th>1</th>\n      <td>1621</td>\n      <td>3765</td>\n      <td>Odom Inc</td>\n      <td>Managed bottom-line architecture</td>\n      <td>1400</td>\n      <td>14560</td>\n      <td>successful</td>\n      <td>158</td>\n      <td>US</td>\n      <td>USD</td>\n      <td>1611554400</td>\n      <td>1621918800</td>\n      <td>False</td>\n      <td>True</td>\n      <td>music</td>\n      <td>rock</td>\n    </tr>\n    <tr>\n      <th>2</th>\n      <td>1812</td>\n      <td>4187</td>\n      <td>Melton, Robinson and Fritz</td>\n      <td>Function-based leadingedge pricing structure</td>\n      <td>108400</td>\n      <td>142523</td>\n      <td>successful</td>\n      <td>1425</td>\n      <td>AU</td>\n      <td>AUD</td>\n      <td>1608184800</td>\n      <td>1640844000</td>\n      <td>False</td>\n      <td>False</td>\n      <td>technology</td>\n      <td>web</td>\n    </tr>\n    <tr>\n      <th>3</th>\n      <td>2156</td>\n      <td>4941</td>\n      <td>Mcdonald, Gonzalez and Ross</td>\n      <td>Vision-oriented fresh-thinking conglomeration</td>\n      <td>4200</td>\n      <td>2477</td>\n      <td>failed</td>\n      <td>24</td>\n      <td>US</td>\n      <td>USD</td>\n      <td>1634792400</td>\n      <td>1642399200</td>\n      <td>False</td>\n      <td>False</td>\n      <td>music</td>\n      <td>rock</td>\n    </tr>\n    <tr>\n      <th>4</th>\n      <td>1365</td>\n      <td>2199</td>\n      <td>Larson-Little</td>\n      <td>Proactive foreground core</td>\n      <td>7600</td>\n      <td>5265</td>\n      <td>failed</td>\n      <td>53</td>\n      <td>US</td>\n      <td>USD</td>\n      <td>1608530400</td>\n      <td>1629694800</td>\n      <td>False</td>\n      <td>False</td>\n      <td>theater</td>\n      <td>plays</td>\n    </tr>\n    <tr>\n      <th>...</th>\n      <td>...</td>\n      <td>...</td>\n      <td>...</td>\n      <td>...</td>\n      <td>...</td>\n      <td>...</td>\n      <td>...</td>\n      <td>...</td>\n      <td>...</td>\n      <td>...</td>\n      <td>...</td>\n      <td>...</td>\n      <td>...</td>\n      <td>...</td>\n      <td>...</td>\n      <td>...</td>\n    </tr>\n    <tr>\n      <th>995</th>\n      <td>2986</td>\n      <td>3684</td>\n      <td>Manning-Hamilton</td>\n      <td>Vision-oriented scalable definition</td>\n      <td>97300</td>\n      <td>153216</td>\n      <td>successful</td>\n      <td>2043</td>\n      <td>US</td>\n      <td>USD</td>\n      <td>1609221600</td>\n      <td>1622350800</td>\n      <td>False</td>\n      <td>True</td>\n      <td>food</td>\n      <td>food trucks</td>\n    </tr>\n    <tr>\n      <th>996</th>\n      <td>2031</td>\n      <td>5784</td>\n      <td>Butler LLC</td>\n      <td>Future-proofed upward-trending migration</td>\n      <td>6600</td>\n      <td>4814</td>\n      <td>failed</td>\n      <td>112</td>\n      <td>US</td>\n      <td>USD</td>\n      <td>1634274000</td>\n      <td>1638252000</td>\n      <td>False</td>\n      <td>False</td>\n      <td>theater</td>\n      <td>plays</td>\n    </tr>\n    <tr>\n      <th>997</th>\n      <td>1627</td>\n      <td>1498</td>\n      <td>Ball LLC</td>\n      <td>Right-sized full-range throughput</td>\n      <td>7600</td>\n      <td>4603</td>\n      <td>canceled</td>\n      <td>139</td>\n      <td>IT</td>\n      <td>EUR</td>\n      <td>1636174800</td>\n      <td>1639116000</td>\n      <td>False</td>\n      <td>False</td>\n      <td>theater</td>\n      <td>plays</td>\n    </tr>\n    <tr>\n      <th>998</th>\n      <td>2175</td>\n      <td>6073</td>\n      <td>Taylor, Santiago and Flores</td>\n      <td>Polarized composite customer loyalty</td>\n      <td>66600</td>\n      <td>37823</td>\n      <td>failed</td>\n      <td>374</td>\n      <td>US</td>\n      <td>USD</td>\n      <td>1602133200</td>\n      <td>1618117200</td>\n      <td>False</td>\n      <td>True</td>\n      <td>music</td>\n      <td>indie rock</td>\n    </tr>\n    <tr>\n      <th>999</th>\n      <td>1788</td>\n      <td>4939</td>\n      <td>Hernandez, Norton and Kelley</td>\n      <td>Expanded eco-centric policy</td>\n      <td>111100</td>\n      <td>62819</td>\n      <td>canceled</td>\n      <td>1122</td>\n      <td>US</td>\n      <td>USD</td>\n      <td>1609308000</td>\n      <td>1629262800</td>\n      <td>False</td>\n      <td>False</td>\n      <td>food</td>\n      <td>food trucks</td>\n    </tr>\n  </tbody>\n</table>\n<p>1000 rows × 16 columns</p>\n</div>"
     },
     "execution_count": 13,
     "metadata": {},
     "output_type": "execute_result"
    }
   ],
   "source": [
    "crowdfunding_info_df.drop('category & sub-category', axis=1, inplace=True)\n",
    "crowdfunding_info_df"
   ],
   "metadata": {
    "collapsed": false,
    "ExecuteTime": {
     "start_time": "2023-06-26T12:24:23.564895Z",
     "end_time": "2023-06-26T12:24:23.582911Z"
    }
   }
  },
  {
   "cell_type": "code",
   "execution_count": 14,
   "metadata": {
    "ExecuteTime": {
     "start_time": "2023-06-26T12:24:48.745931Z",
     "end_time": "2023-06-26T12:24:48.767945Z"
    }
   },
   "outputs": [
    {
     "name": "stdout",
     "output_type": "stream",
     "text": [
      "['food' 'music' 'technology' 'theater' 'film & video' 'publishing' 'games'\n",
      " 'photography' 'journalism']\n",
      "['food trucks' 'rock' 'web' 'plays' 'documentary' 'electric music' 'drama'\n",
      " 'indie rock' 'wearables' 'nonfiction' 'animation' 'video games' 'shorts'\n",
      " 'fiction' 'photography books' 'radio & podcasts' 'metal' 'jazz'\n",
      " 'translations' 'television' 'mobile games' 'world music'\n",
      " 'science fiction' 'audio']\n"
     ]
    }
   ],
   "source": [
    "# Get the unique categories and subcategories in separate lists.\n",
    "categories = crowdfunding_info_df['category'].unique()\n",
    "subcategories = crowdfunding_info_df['subcategory'].unique()\n",
    "\n",
    "print(categories)\n",
    "print(subcategories)"
   ]
  },
  {
   "cell_type": "code",
   "execution_count": 15,
   "metadata": {
    "ExecuteTime": {
     "start_time": "2023-06-26T12:24:51.279707Z",
     "end_time": "2023-06-26T12:24:51.295721Z"
    }
   },
   "outputs": [
    {
     "name": "stdout",
     "output_type": "stream",
     "text": [
      "9\n",
      "24\n"
     ]
    }
   ],
   "source": [
    "# Get the number of distinct values in the categories and subcategories lists.\n",
    "print(len(categories))\n",
    "print(len(subcategories))"
   ]
  },
  {
   "cell_type": "code",
   "execution_count": 16,
   "metadata": {
    "ExecuteTime": {
     "start_time": "2023-06-26T12:25:01.247822Z",
     "end_time": "2023-06-26T12:25:01.263836Z"
    }
   },
   "outputs": [
    {
     "name": "stdout",
     "output_type": "stream",
     "text": [
      "[1 2 3 4 5 6 7 8 9]\n",
      "[ 1  2  3  4  5  6  7  8  9 10 11 12 13 14 15 16 17 18 19 20 21 22 23 24]\n"
     ]
    }
   ],
   "source": [
    "# Create numpy arrays from 1-9 for the categories and 1-24 for the subcategories.\n",
    "category_ids = np.arange(1, 10)\n",
    "subcategory_ids = np.arange(1, 25)\n",
    "\n",
    "print(category_ids)\n",
    "print(subcategory_ids)"
   ]
  },
  {
   "cell_type": "code",
   "execution_count": 18,
   "metadata": {
    "ExecuteTime": {
     "start_time": "2023-06-26T12:26:02.493922Z",
     "end_time": "2023-06-26T12:26:02.522948Z"
    }
   },
   "outputs": [
    {
     "name": "stdout",
     "output_type": "stream",
     "text": [
      "['cat1', 'cat2', 'cat3', 'cat4', 'cat5', 'cat6', 'cat7', 'cat8', 'cat9']\n",
      "['subcat1', 'subcat2', 'subcat3', 'subcat4', 'subcat5', 'subcat6', 'subcat7', 'subcat8', 'subcat9', 'subcat10', 'subcat11', 'subcat12', 'subcat13', 'subcat14', 'subcat15', 'subcat16', 'subcat17', 'subcat18', 'subcat19', 'subcat20', 'subcat21', 'subcat22', 'subcat23', 'subcat24']\n"
     ]
    }
   ],
   "source": [
    "# Use a list comprehension to add \"cat\" to each category_id. \n",
    "cat_ids = [f\"cat{category_id}\" for category_id in category_ids]\n",
    "# Use a list comprehension to add \"subcat\" to each subcategory_id.    \n",
    "subcat_ids = [f\"subcat{subcategory_id}\" for subcategory_id in subcategory_ids]\n",
    "    \n",
    "print(cat_ids)\n",
    "print(subcat_ids)"
   ]
  },
  {
   "cell_type": "code",
   "execution_count": 19,
   "metadata": {
    "ExecuteTime": {
     "start_time": "2023-06-26T12:26:46.406707Z",
     "end_time": "2023-06-26T12:26:46.431730Z"
    }
   },
   "outputs": [],
   "source": [
    "# Create a category DataFrame with the category_id array as the category_id and categories list as the category name.\n",
    "category_dict = {'category_id' : cat_ids , 'category' : categories}\n",
    "category_df = pd.DataFrame(category_dict)\n",
    "# Create a category DataFrame with the subcategory_id array as the subcategory_id and subcategories list as the subcategory name. \n",
    "subcategory_dict = {'subcategory_id' : subcat_ids , 'subcategory' : subcategories}\n",
    "subcategory_df = pd.DataFrame(subcategory_dict)"
   ]
  },
  {
   "cell_type": "code",
   "execution_count": 20,
   "metadata": {
    "ExecuteTime": {
     "start_time": "2023-06-26T12:26:50.974673Z",
     "end_time": "2023-06-26T12:26:50.999902Z"
    }
   },
   "outputs": [
    {
     "data": {
      "text/plain": "  category_id      category\n0        cat1          food\n1        cat2         music\n2        cat3    technology\n3        cat4       theater\n4        cat5  film & video\n5        cat6    publishing\n6        cat7         games\n7        cat8   photography\n8        cat9    journalism",
      "text/html": "<div>\n<style scoped>\n    .dataframe tbody tr th:only-of-type {\n        vertical-align: middle;\n    }\n\n    .dataframe tbody tr th {\n        vertical-align: top;\n    }\n\n    .dataframe thead th {\n        text-align: right;\n    }\n</style>\n<table border=\"1\" class=\"dataframe\">\n  <thead>\n    <tr style=\"text-align: right;\">\n      <th></th>\n      <th>category_id</th>\n      <th>category</th>\n    </tr>\n  </thead>\n  <tbody>\n    <tr>\n      <th>0</th>\n      <td>cat1</td>\n      <td>food</td>\n    </tr>\n    <tr>\n      <th>1</th>\n      <td>cat2</td>\n      <td>music</td>\n    </tr>\n    <tr>\n      <th>2</th>\n      <td>cat3</td>\n      <td>technology</td>\n    </tr>\n    <tr>\n      <th>3</th>\n      <td>cat4</td>\n      <td>theater</td>\n    </tr>\n    <tr>\n      <th>4</th>\n      <td>cat5</td>\n      <td>film &amp; video</td>\n    </tr>\n    <tr>\n      <th>5</th>\n      <td>cat6</td>\n      <td>publishing</td>\n    </tr>\n    <tr>\n      <th>6</th>\n      <td>cat7</td>\n      <td>games</td>\n    </tr>\n    <tr>\n      <th>7</th>\n      <td>cat8</td>\n      <td>photography</td>\n    </tr>\n    <tr>\n      <th>8</th>\n      <td>cat9</td>\n      <td>journalism</td>\n    </tr>\n  </tbody>\n</table>\n</div>"
     },
     "execution_count": 20,
     "metadata": {},
     "output_type": "execute_result"
    }
   ],
   "source": [
    "category_df"
   ]
  },
  {
   "cell_type": "code",
   "execution_count": 21,
   "metadata": {
    "ExecuteTime": {
     "start_time": "2023-06-26T12:26:53.122900Z",
     "end_time": "2023-06-26T12:26:53.131908Z"
    }
   },
   "outputs": [
    {
     "data": {
      "text/plain": "   subcategory_id        subcategory\n0         subcat1        food trucks\n1         subcat2               rock\n2         subcat3                web\n3         subcat4              plays\n4         subcat5        documentary\n5         subcat6     electric music\n6         subcat7              drama\n7         subcat8         indie rock\n8         subcat9          wearables\n9        subcat10         nonfiction\n10       subcat11          animation\n11       subcat12        video games\n12       subcat13             shorts\n13       subcat14            fiction\n14       subcat15  photography books\n15       subcat16   radio & podcasts\n16       subcat17              metal\n17       subcat18               jazz\n18       subcat19       translations\n19       subcat20         television\n20       subcat21       mobile games\n21       subcat22        world music\n22       subcat23    science fiction\n23       subcat24              audio",
      "text/html": "<div>\n<style scoped>\n    .dataframe tbody tr th:only-of-type {\n        vertical-align: middle;\n    }\n\n    .dataframe tbody tr th {\n        vertical-align: top;\n    }\n\n    .dataframe thead th {\n        text-align: right;\n    }\n</style>\n<table border=\"1\" class=\"dataframe\">\n  <thead>\n    <tr style=\"text-align: right;\">\n      <th></th>\n      <th>subcategory_id</th>\n      <th>subcategory</th>\n    </tr>\n  </thead>\n  <tbody>\n    <tr>\n      <th>0</th>\n      <td>subcat1</td>\n      <td>food trucks</td>\n    </tr>\n    <tr>\n      <th>1</th>\n      <td>subcat2</td>\n      <td>rock</td>\n    </tr>\n    <tr>\n      <th>2</th>\n      <td>subcat3</td>\n      <td>web</td>\n    </tr>\n    <tr>\n      <th>3</th>\n      <td>subcat4</td>\n      <td>plays</td>\n    </tr>\n    <tr>\n      <th>4</th>\n      <td>subcat5</td>\n      <td>documentary</td>\n    </tr>\n    <tr>\n      <th>5</th>\n      <td>subcat6</td>\n      <td>electric music</td>\n    </tr>\n    <tr>\n      <th>6</th>\n      <td>subcat7</td>\n      <td>drama</td>\n    </tr>\n    <tr>\n      <th>7</th>\n      <td>subcat8</td>\n      <td>indie rock</td>\n    </tr>\n    <tr>\n      <th>8</th>\n      <td>subcat9</td>\n      <td>wearables</td>\n    </tr>\n    <tr>\n      <th>9</th>\n      <td>subcat10</td>\n      <td>nonfiction</td>\n    </tr>\n    <tr>\n      <th>10</th>\n      <td>subcat11</td>\n      <td>animation</td>\n    </tr>\n    <tr>\n      <th>11</th>\n      <td>subcat12</td>\n      <td>video games</td>\n    </tr>\n    <tr>\n      <th>12</th>\n      <td>subcat13</td>\n      <td>shorts</td>\n    </tr>\n    <tr>\n      <th>13</th>\n      <td>subcat14</td>\n      <td>fiction</td>\n    </tr>\n    <tr>\n      <th>14</th>\n      <td>subcat15</td>\n      <td>photography books</td>\n    </tr>\n    <tr>\n      <th>15</th>\n      <td>subcat16</td>\n      <td>radio &amp; podcasts</td>\n    </tr>\n    <tr>\n      <th>16</th>\n      <td>subcat17</td>\n      <td>metal</td>\n    </tr>\n    <tr>\n      <th>17</th>\n      <td>subcat18</td>\n      <td>jazz</td>\n    </tr>\n    <tr>\n      <th>18</th>\n      <td>subcat19</td>\n      <td>translations</td>\n    </tr>\n    <tr>\n      <th>19</th>\n      <td>subcat20</td>\n      <td>television</td>\n    </tr>\n    <tr>\n      <th>20</th>\n      <td>subcat21</td>\n      <td>mobile games</td>\n    </tr>\n    <tr>\n      <th>21</th>\n      <td>subcat22</td>\n      <td>world music</td>\n    </tr>\n    <tr>\n      <th>22</th>\n      <td>subcat23</td>\n      <td>science fiction</td>\n    </tr>\n    <tr>\n      <th>23</th>\n      <td>subcat24</td>\n      <td>audio</td>\n    </tr>\n  </tbody>\n</table>\n</div>"
     },
     "execution_count": 21,
     "metadata": {},
     "output_type": "execute_result"
    }
   ],
   "source": [
    "subcategory_df"
   ]
  },
  {
   "cell_type": "code",
   "execution_count": 22,
   "metadata": {
    "ExecuteTime": {
     "start_time": "2023-06-26T12:28:12.949901Z",
     "end_time": "2023-06-26T12:28:12.981929Z"
    }
   },
   "outputs": [],
   "source": [
    "# Export categories_df and subcategories_df as CSV files.\n",
    "category_df.to_csv(\"Resources/category.csv\", index=False)\n",
    "\n",
    "subcategory_df.to_csv(\"Resources/subcategory.csv\", index=False)"
   ]
  },
  {
   "cell_type": "markdown",
   "metadata": {},
   "source": [
    "### Campaign DataFrame\n",
    "----\n",
    "**Create a Campaign DataFrame that has the following columns:**\n",
    "- The \"cf_id\" column.\n",
    "- The \"contact_id\" column.\n",
    "- The “company_name” column.\n",
    "- The \"blurb\" column is renamed as \"description.\"\n",
    "- The \"goal\" column.\n",
    "- The \"goal\" column is converted to a `float` datatype.\n",
    "- The \"pledged\" column is converted to a `float` datatype. \n",
    "- The \"backers_count\" column. \n",
    "- The \"country\" column.\n",
    "- The \"currency\" column.\n",
    "- The \"launched_at\" column is renamed as \"launch_date\" and converted to a datetime format. \n",
    "- The \"deadline\" column is renamed as \"end_date\" and converted to a datetime format.\n",
    "- The \"category_id\" with the unique number matching the “category_id” from the category DataFrame. \n",
    "- The \"subcategory_id\" with the unique number matching the “subcategory_id” from the subcategory DataFrame.\n",
    "- And, create a column that contains the unique four-digit contact ID number from the `contact.xlsx` file.\n",
    " \n",
    "\n",
    "Then export the DataFrame as a `campaign.csv` CSV file.\n"
   ]
  },
  {
   "cell_type": "code",
   "execution_count": 23,
   "metadata": {
    "ExecuteTime": {
     "start_time": "2023-06-26T12:28:25.685907Z",
     "end_time": "2023-06-26T12:28:25.699919Z"
    }
   },
   "outputs": [
    {
     "data": {
      "text/plain": "   cf_id  contact_id                 company_name  \\\n0    147        4661   Baldwin, Riley and Jackson   \n1   1621        3765                     Odom Inc   \n2   1812        4187   Melton, Robinson and Fritz   \n3   2156        4941  Mcdonald, Gonzalez and Ross   \n4   1365        2199                Larson-Little   \n\n                                           blurb    goal  pledged     outcome  \\\n0           Pre-emptive tertiary standardization     100        0      failed   \n1               Managed bottom-line architecture    1400    14560  successful   \n2   Function-based leadingedge pricing structure  108400   142523  successful   \n3  Vision-oriented fresh-thinking conglomeration    4200     2477      failed   \n4                      Proactive foreground core    7600     5265      failed   \n\n   backers_count country currency  launched_at    deadline  staff_pick  \\\n0              0      CA      CAD   1581573600  1614578400       False   \n1            158      US      USD   1611554400  1621918800       False   \n2           1425      AU      AUD   1608184800  1640844000       False   \n3             24      US      USD   1634792400  1642399200       False   \n4             53      US      USD   1608530400  1629694800       False   \n\n   spotlight    category  subcategory  \n0      False        food  food trucks  \n1       True       music         rock  \n2      False  technology          web  \n3      False       music         rock  \n4      False     theater        plays  ",
      "text/html": "<div>\n<style scoped>\n    .dataframe tbody tr th:only-of-type {\n        vertical-align: middle;\n    }\n\n    .dataframe tbody tr th {\n        vertical-align: top;\n    }\n\n    .dataframe thead th {\n        text-align: right;\n    }\n</style>\n<table border=\"1\" class=\"dataframe\">\n  <thead>\n    <tr style=\"text-align: right;\">\n      <th></th>\n      <th>cf_id</th>\n      <th>contact_id</th>\n      <th>company_name</th>\n      <th>blurb</th>\n      <th>goal</th>\n      <th>pledged</th>\n      <th>outcome</th>\n      <th>backers_count</th>\n      <th>country</th>\n      <th>currency</th>\n      <th>launched_at</th>\n      <th>deadline</th>\n      <th>staff_pick</th>\n      <th>spotlight</th>\n      <th>category</th>\n      <th>subcategory</th>\n    </tr>\n  </thead>\n  <tbody>\n    <tr>\n      <th>0</th>\n      <td>147</td>\n      <td>4661</td>\n      <td>Baldwin, Riley and Jackson</td>\n      <td>Pre-emptive tertiary standardization</td>\n      <td>100</td>\n      <td>0</td>\n      <td>failed</td>\n      <td>0</td>\n      <td>CA</td>\n      <td>CAD</td>\n      <td>1581573600</td>\n      <td>1614578400</td>\n      <td>False</td>\n      <td>False</td>\n      <td>food</td>\n      <td>food trucks</td>\n    </tr>\n    <tr>\n      <th>1</th>\n      <td>1621</td>\n      <td>3765</td>\n      <td>Odom Inc</td>\n      <td>Managed bottom-line architecture</td>\n      <td>1400</td>\n      <td>14560</td>\n      <td>successful</td>\n      <td>158</td>\n      <td>US</td>\n      <td>USD</td>\n      <td>1611554400</td>\n      <td>1621918800</td>\n      <td>False</td>\n      <td>True</td>\n      <td>music</td>\n      <td>rock</td>\n    </tr>\n    <tr>\n      <th>2</th>\n      <td>1812</td>\n      <td>4187</td>\n      <td>Melton, Robinson and Fritz</td>\n      <td>Function-based leadingedge pricing structure</td>\n      <td>108400</td>\n      <td>142523</td>\n      <td>successful</td>\n      <td>1425</td>\n      <td>AU</td>\n      <td>AUD</td>\n      <td>1608184800</td>\n      <td>1640844000</td>\n      <td>False</td>\n      <td>False</td>\n      <td>technology</td>\n      <td>web</td>\n    </tr>\n    <tr>\n      <th>3</th>\n      <td>2156</td>\n      <td>4941</td>\n      <td>Mcdonald, Gonzalez and Ross</td>\n      <td>Vision-oriented fresh-thinking conglomeration</td>\n      <td>4200</td>\n      <td>2477</td>\n      <td>failed</td>\n      <td>24</td>\n      <td>US</td>\n      <td>USD</td>\n      <td>1634792400</td>\n      <td>1642399200</td>\n      <td>False</td>\n      <td>False</td>\n      <td>music</td>\n      <td>rock</td>\n    </tr>\n    <tr>\n      <th>4</th>\n      <td>1365</td>\n      <td>2199</td>\n      <td>Larson-Little</td>\n      <td>Proactive foreground core</td>\n      <td>7600</td>\n      <td>5265</td>\n      <td>failed</td>\n      <td>53</td>\n      <td>US</td>\n      <td>USD</td>\n      <td>1608530400</td>\n      <td>1629694800</td>\n      <td>False</td>\n      <td>False</td>\n      <td>theater</td>\n      <td>plays</td>\n    </tr>\n  </tbody>\n</table>\n</div>"
     },
     "execution_count": 23,
     "metadata": {},
     "output_type": "execute_result"
    }
   ],
   "source": [
    "# Create a copy of the crowdfunding_info_df DataFrame name campaign_df. \n",
    "campaign_df = crowdfunding_info_df.copy()\n",
    "campaign_df.head()"
   ]
  },
  {
   "cell_type": "code",
   "execution_count": 24,
   "metadata": {
    "ExecuteTime": {
     "start_time": "2023-06-26T12:28:51.333969Z",
     "end_time": "2023-06-26T12:28:51.359992Z"
    }
   },
   "outputs": [
    {
     "data": {
      "text/plain": "   cf_id  contact_id                 company_name  \\\n0    147        4661   Baldwin, Riley and Jackson   \n1   1621        3765                     Odom Inc   \n2   1812        4187   Melton, Robinson and Fritz   \n3   2156        4941  Mcdonald, Gonzalez and Ross   \n4   1365        2199                Larson-Little   \n\n                                     description    goal  pledged     outcome  \\\n0           Pre-emptive tertiary standardization     100        0      failed   \n1               Managed bottom-line architecture    1400    14560  successful   \n2   Function-based leadingedge pricing structure  108400   142523  successful   \n3  Vision-oriented fresh-thinking conglomeration    4200     2477      failed   \n4                      Proactive foreground core    7600     5265      failed   \n\n   backers_count country currency  launched_date    end_date  staff_pick  \\\n0              0      CA      CAD     1581573600  1614578400       False   \n1            158      US      USD     1611554400  1621918800       False   \n2           1425      AU      AUD     1608184800  1640844000       False   \n3             24      US      USD     1634792400  1642399200       False   \n4             53      US      USD     1608530400  1629694800       False   \n\n   spotlight    category  subcategory  \n0      False        food  food trucks  \n1       True       music         rock  \n2      False  technology          web  \n3      False       music         rock  \n4      False     theater        plays  ",
      "text/html": "<div>\n<style scoped>\n    .dataframe tbody tr th:only-of-type {\n        vertical-align: middle;\n    }\n\n    .dataframe tbody tr th {\n        vertical-align: top;\n    }\n\n    .dataframe thead th {\n        text-align: right;\n    }\n</style>\n<table border=\"1\" class=\"dataframe\">\n  <thead>\n    <tr style=\"text-align: right;\">\n      <th></th>\n      <th>cf_id</th>\n      <th>contact_id</th>\n      <th>company_name</th>\n      <th>description</th>\n      <th>goal</th>\n      <th>pledged</th>\n      <th>outcome</th>\n      <th>backers_count</th>\n      <th>country</th>\n      <th>currency</th>\n      <th>launched_date</th>\n      <th>end_date</th>\n      <th>staff_pick</th>\n      <th>spotlight</th>\n      <th>category</th>\n      <th>subcategory</th>\n    </tr>\n  </thead>\n  <tbody>\n    <tr>\n      <th>0</th>\n      <td>147</td>\n      <td>4661</td>\n      <td>Baldwin, Riley and Jackson</td>\n      <td>Pre-emptive tertiary standardization</td>\n      <td>100</td>\n      <td>0</td>\n      <td>failed</td>\n      <td>0</td>\n      <td>CA</td>\n      <td>CAD</td>\n      <td>1581573600</td>\n      <td>1614578400</td>\n      <td>False</td>\n      <td>False</td>\n      <td>food</td>\n      <td>food trucks</td>\n    </tr>\n    <tr>\n      <th>1</th>\n      <td>1621</td>\n      <td>3765</td>\n      <td>Odom Inc</td>\n      <td>Managed bottom-line architecture</td>\n      <td>1400</td>\n      <td>14560</td>\n      <td>successful</td>\n      <td>158</td>\n      <td>US</td>\n      <td>USD</td>\n      <td>1611554400</td>\n      <td>1621918800</td>\n      <td>False</td>\n      <td>True</td>\n      <td>music</td>\n      <td>rock</td>\n    </tr>\n    <tr>\n      <th>2</th>\n      <td>1812</td>\n      <td>4187</td>\n      <td>Melton, Robinson and Fritz</td>\n      <td>Function-based leadingedge pricing structure</td>\n      <td>108400</td>\n      <td>142523</td>\n      <td>successful</td>\n      <td>1425</td>\n      <td>AU</td>\n      <td>AUD</td>\n      <td>1608184800</td>\n      <td>1640844000</td>\n      <td>False</td>\n      <td>False</td>\n      <td>technology</td>\n      <td>web</td>\n    </tr>\n    <tr>\n      <th>3</th>\n      <td>2156</td>\n      <td>4941</td>\n      <td>Mcdonald, Gonzalez and Ross</td>\n      <td>Vision-oriented fresh-thinking conglomeration</td>\n      <td>4200</td>\n      <td>2477</td>\n      <td>failed</td>\n      <td>24</td>\n      <td>US</td>\n      <td>USD</td>\n      <td>1634792400</td>\n      <td>1642399200</td>\n      <td>False</td>\n      <td>False</td>\n      <td>music</td>\n      <td>rock</td>\n    </tr>\n    <tr>\n      <th>4</th>\n      <td>1365</td>\n      <td>2199</td>\n      <td>Larson-Little</td>\n      <td>Proactive foreground core</td>\n      <td>7600</td>\n      <td>5265</td>\n      <td>failed</td>\n      <td>53</td>\n      <td>US</td>\n      <td>USD</td>\n      <td>1608530400</td>\n      <td>1629694800</td>\n      <td>False</td>\n      <td>False</td>\n      <td>theater</td>\n      <td>plays</td>\n    </tr>\n  </tbody>\n</table>\n</div>"
     },
     "execution_count": 24,
     "metadata": {},
     "output_type": "execute_result"
    }
   ],
   "source": [
    "# Rename the blurb, launched_at, and deadline columns.\n",
    "campaign_df = campaign_df.rename(columns={'blurb': 'description', 'launched_at': 'launched_date',\n",
    "                                          'deadline': 'end_date'})\n",
    "campaign_df.head()"
   ]
  },
  {
   "cell_type": "code",
   "execution_count": 26,
   "metadata": {
    "ExecuteTime": {
     "start_time": "2023-06-26T12:35:36.358285Z",
     "end_time": "2023-06-26T12:35:36.411334Z"
    }
   },
   "outputs": [
    {
     "name": "stdout",
     "output_type": "stream",
     "text": [
      "<class 'pandas.core.frame.DataFrame'>\n",
      "RangeIndex: 1000 entries, 0 to 999\n",
      "Data columns (total 16 columns):\n",
      " #   Column         Non-Null Count  Dtype  \n",
      "---  ------         --------------  -----  \n",
      " 0   cf_id          1000 non-null   int64  \n",
      " 1   contact_id     1000 non-null   int64  \n",
      " 2   company_name   1000 non-null   object \n",
      " 3   description    1000 non-null   object \n",
      " 4   goal           1000 non-null   float64\n",
      " 5   pledged        1000 non-null   float64\n",
      " 6   outcome        1000 non-null   object \n",
      " 7   backers_count  1000 non-null   int64  \n",
      " 8   country        1000 non-null   object \n",
      " 9   currency       1000 non-null   object \n",
      " 10  launched_date  1000 non-null   int64  \n",
      " 11  end_date       1000 non-null   int64  \n",
      " 12  staff_pick     1000 non-null   bool   \n",
      " 13  spotlight      1000 non-null   bool   \n",
      " 14  category       1000 non-null   object \n",
      " 15  subcategory    1000 non-null   object \n",
      "dtypes: bool(2), float64(2), int64(5), object(7)\n",
      "memory usage: 111.5+ KB\n"
     ]
    }
   ],
   "source": [
    "# Convert the goal and pledged columns to a `float` data type.\n",
    "campaign_df['goal'] = campaign_df['goal'].astype(float)\n",
    "campaign_df['pledged'] = campaign_df['pledged'].astype(float)\n",
    "\n",
    "campaign_df.info()"
   ]
  },
  {
   "cell_type": "code",
   "execution_count": 28,
   "metadata": {
    "ExecuteTime": {
     "start_time": "2023-06-26T12:36:19.090432Z",
     "end_time": "2023-06-26T12:36:19.106447Z"
    }
   },
   "outputs": [
    {
     "ename": "ValueError",
     "evalue": "non convertible value 2020-02-13 with the unit 's'",
     "output_type": "error",
     "traceback": [
      "\u001B[1;31m---------------------------------------------------------------------------\u001B[0m",
      "\u001B[1;31mValueError\u001B[0m                                Traceback (most recent call last)",
      "File \u001B[1;32m~\\anaconda3\\lib\\site-packages\\pandas\\_libs\\tslib.pyx:361\u001B[0m, in \u001B[0;36mpandas._libs.tslib.array_with_unit_to_datetime\u001B[1;34m()\u001B[0m\n",
      "\u001B[1;31mValueError\u001B[0m: could not convert string to float: '2020-02-13'",
      "\nDuring handling of the above exception, another exception occurred:\n",
      "\u001B[1;31mValueError\u001B[0m                                Traceback (most recent call last)",
      "Cell \u001B[1;32mIn[28], line 2\u001B[0m\n\u001B[0;32m      1\u001B[0m \u001B[38;5;66;03m# Format the launched_date and end_date columns to datetime format\u001B[39;00m\n\u001B[1;32m----> 2\u001B[0m campaign_df[\u001B[38;5;124m\"\u001B[39m\u001B[38;5;124mlaunched_date\u001B[39m\u001B[38;5;124m\"\u001B[39m] \u001B[38;5;241m=\u001B[39m \u001B[43mpd\u001B[49m\u001B[38;5;241;43m.\u001B[39;49m\u001B[43mto_datetime\u001B[49m\u001B[43m(\u001B[49m\u001B[43mcampaign_df\u001B[49m\u001B[43m[\u001B[49m\u001B[38;5;124;43m\"\u001B[39;49m\u001B[38;5;124;43mlaunched_date\u001B[39;49m\u001B[38;5;124;43m\"\u001B[39;49m\u001B[43m]\u001B[49m\u001B[43m,\u001B[49m\u001B[43m \u001B[49m\u001B[43munit\u001B[49m\u001B[38;5;241;43m=\u001B[39;49m\u001B[38;5;124;43m'\u001B[39;49m\u001B[38;5;124;43ms\u001B[39;49m\u001B[38;5;124;43m'\u001B[39;49m\u001B[43m)\u001B[49m\u001B[38;5;241m.\u001B[39mdt\u001B[38;5;241m.\u001B[39mstrftime(\u001B[38;5;124m'\u001B[39m\u001B[38;5;124m%\u001B[39m\u001B[38;5;124mY-\u001B[39m\u001B[38;5;124m%\u001B[39m\u001B[38;5;124mm-\u001B[39m\u001B[38;5;132;01m%d\u001B[39;00m\u001B[38;5;124m'\u001B[39m)\n\u001B[0;32m      3\u001B[0m campaign_df[\u001B[38;5;124m\"\u001B[39m\u001B[38;5;124mend_date\u001B[39m\u001B[38;5;124m\"\u001B[39m] \u001B[38;5;241m=\u001B[39m pd\u001B[38;5;241m.\u001B[39mto_datetime(campaign_df[\u001B[38;5;124m\"\u001B[39m\u001B[38;5;124mend_date\u001B[39m\u001B[38;5;124m\"\u001B[39m], unit\u001B[38;5;241m=\u001B[39m\u001B[38;5;124m'\u001B[39m\u001B[38;5;124ms\u001B[39m\u001B[38;5;124m'\u001B[39m)\u001B[38;5;241m.\u001B[39mdt\u001B[38;5;241m.\u001B[39mstrftime(\u001B[38;5;124m'\u001B[39m\u001B[38;5;124m%\u001B[39m\u001B[38;5;124mY-\u001B[39m\u001B[38;5;124m%\u001B[39m\u001B[38;5;124mm-\u001B[39m\u001B[38;5;132;01m%d\u001B[39;00m\u001B[38;5;124m'\u001B[39m)\n\u001B[0;32m      4\u001B[0m campaign_df\n",
      "File \u001B[1;32m~\\anaconda3\\lib\\site-packages\\pandas\\core\\tools\\datetimes.py:1068\u001B[0m, in \u001B[0;36mto_datetime\u001B[1;34m(arg, errors, dayfirst, yearfirst, utc, format, exact, unit, infer_datetime_format, origin, cache)\u001B[0m\n\u001B[0;32m   1066\u001B[0m         result \u001B[38;5;241m=\u001B[39m arg\u001B[38;5;241m.\u001B[39mmap(cache_array)\n\u001B[0;32m   1067\u001B[0m     \u001B[38;5;28;01melse\u001B[39;00m:\n\u001B[1;32m-> 1068\u001B[0m         values \u001B[38;5;241m=\u001B[39m \u001B[43mconvert_listlike\u001B[49m\u001B[43m(\u001B[49m\u001B[43marg\u001B[49m\u001B[38;5;241;43m.\u001B[39;49m\u001B[43m_values\u001B[49m\u001B[43m,\u001B[49m\u001B[43m \u001B[49m\u001B[38;5;28;43mformat\u001B[39;49m\u001B[43m)\u001B[49m\n\u001B[0;32m   1069\u001B[0m         result \u001B[38;5;241m=\u001B[39m arg\u001B[38;5;241m.\u001B[39m_constructor(values, index\u001B[38;5;241m=\u001B[39marg\u001B[38;5;241m.\u001B[39mindex, name\u001B[38;5;241m=\u001B[39marg\u001B[38;5;241m.\u001B[39mname)\n\u001B[0;32m   1070\u001B[0m \u001B[38;5;28;01melif\u001B[39;00m \u001B[38;5;28misinstance\u001B[39m(arg, (ABCDataFrame, abc\u001B[38;5;241m.\u001B[39mMutableMapping)):\n",
      "File \u001B[1;32m~\\anaconda3\\lib\\site-packages\\pandas\\core\\tools\\datetimes.py:393\u001B[0m, in \u001B[0;36m_convert_listlike_datetimes\u001B[1;34m(arg, format, name, tz, unit, errors, infer_datetime_format, dayfirst, yearfirst, exact)\u001B[0m\n\u001B[0;32m    391\u001B[0m     \u001B[38;5;28;01mif\u001B[39;00m \u001B[38;5;28mformat\u001B[39m \u001B[38;5;129;01mis\u001B[39;00m \u001B[38;5;129;01mnot\u001B[39;00m \u001B[38;5;28;01mNone\u001B[39;00m:\n\u001B[0;32m    392\u001B[0m         \u001B[38;5;28;01mraise\u001B[39;00m \u001B[38;5;167;01mValueError\u001B[39;00m(\u001B[38;5;124m\"\u001B[39m\u001B[38;5;124mcannot specify both format and unit\u001B[39m\u001B[38;5;124m\"\u001B[39m)\n\u001B[1;32m--> 393\u001B[0m     \u001B[38;5;28;01mreturn\u001B[39;00m \u001B[43m_to_datetime_with_unit\u001B[49m\u001B[43m(\u001B[49m\u001B[43marg\u001B[49m\u001B[43m,\u001B[49m\u001B[43m \u001B[49m\u001B[43munit\u001B[49m\u001B[43m,\u001B[49m\u001B[43m \u001B[49m\u001B[43mname\u001B[49m\u001B[43m,\u001B[49m\u001B[43m \u001B[49m\u001B[43mtz\u001B[49m\u001B[43m,\u001B[49m\u001B[43m \u001B[49m\u001B[43merrors\u001B[49m\u001B[43m)\u001B[49m\n\u001B[0;32m    394\u001B[0m \u001B[38;5;28;01melif\u001B[39;00m \u001B[38;5;28mgetattr\u001B[39m(arg, \u001B[38;5;124m\"\u001B[39m\u001B[38;5;124mndim\u001B[39m\u001B[38;5;124m\"\u001B[39m, \u001B[38;5;241m1\u001B[39m) \u001B[38;5;241m>\u001B[39m \u001B[38;5;241m1\u001B[39m:\n\u001B[0;32m    395\u001B[0m     \u001B[38;5;28;01mraise\u001B[39;00m \u001B[38;5;167;01mTypeError\u001B[39;00m(\n\u001B[0;32m    396\u001B[0m         \u001B[38;5;124m\"\u001B[39m\u001B[38;5;124marg must be a string, datetime, list, tuple, 1-d array, or Series\u001B[39m\u001B[38;5;124m\"\u001B[39m\n\u001B[0;32m    397\u001B[0m     )\n",
      "File \u001B[1;32m~\\anaconda3\\lib\\site-packages\\pandas\\core\\tools\\datetimes.py:557\u001B[0m, in \u001B[0;36m_to_datetime_with_unit\u001B[1;34m(arg, unit, name, tz, errors)\u001B[0m\n\u001B[0;32m    555\u001B[0m \u001B[38;5;28;01melse\u001B[39;00m:\n\u001B[0;32m    556\u001B[0m     arg \u001B[38;5;241m=\u001B[39m np\u001B[38;5;241m.\u001B[39masarray(arg)\n\u001B[1;32m--> 557\u001B[0m     arr, tz_parsed \u001B[38;5;241m=\u001B[39m \u001B[43mtslib\u001B[49m\u001B[38;5;241;43m.\u001B[39;49m\u001B[43marray_with_unit_to_datetime\u001B[49m\u001B[43m(\u001B[49m\u001B[43marg\u001B[49m\u001B[43m,\u001B[49m\u001B[43m \u001B[49m\u001B[43munit\u001B[49m\u001B[43m,\u001B[49m\u001B[43m \u001B[49m\u001B[43merrors\u001B[49m\u001B[38;5;241;43m=\u001B[39;49m\u001B[43merrors\u001B[49m\u001B[43m)\u001B[49m\n\u001B[0;32m    559\u001B[0m \u001B[38;5;28;01mif\u001B[39;00m errors \u001B[38;5;241m==\u001B[39m \u001B[38;5;124m\"\u001B[39m\u001B[38;5;124mignore\u001B[39m\u001B[38;5;124m\"\u001B[39m:\n\u001B[0;32m    560\u001B[0m     \u001B[38;5;66;03m# Index constructor _may_ infer to DatetimeIndex\u001B[39;00m\n\u001B[0;32m    561\u001B[0m     result \u001B[38;5;241m=\u001B[39m Index\u001B[38;5;241m.\u001B[39m_with_infer(arr, name\u001B[38;5;241m=\u001B[39mname)\n",
      "File \u001B[1;32m~\\anaconda3\\lib\\site-packages\\pandas\\_libs\\tslib.pyx:364\u001B[0m, in \u001B[0;36mpandas._libs.tslib.array_with_unit_to_datetime\u001B[1;34m()\u001B[0m\n",
      "\u001B[1;31mValueError\u001B[0m: non convertible value 2020-02-13 with the unit 's'"
     ]
    }
   ],
   "source": [
    "# Format the launched_date and end_date columns to datetime format\n",
    "campaign_df[\"launched_date\"] = pd.to_datetime(campaign_df[\"launched_date\"], unit='s').dt.strftime('%Y-%m-%d')\n",
    "campaign_df[\"end_date\"] = pd.to_datetime(campaign_df[\"end_date\"], unit='s').dt.strftime('%Y-%m-%d')\n",
    "\n"
   ]
  },
  {
   "cell_type": "code",
   "execution_count": 29,
   "outputs": [
    {
     "data": {
      "text/plain": "     cf_id  contact_id                  company_name  \\\n0      147        4661    Baldwin, Riley and Jackson   \n1     1621        3765                      Odom Inc   \n2     1812        4187    Melton, Robinson and Fritz   \n3     2156        4941   Mcdonald, Gonzalez and Ross   \n4     1365        2199                 Larson-Little   \n..     ...         ...                           ...   \n995   2986        3684              Manning-Hamilton   \n996   2031        5784                    Butler LLC   \n997   1627        1498                      Ball LLC   \n998   2175        6073   Taylor, Santiago and Flores   \n999   1788        4939  Hernandez, Norton and Kelley   \n\n                                       description      goal   pledged  \\\n0             Pre-emptive tertiary standardization     100.0       0.0   \n1                 Managed bottom-line architecture    1400.0   14560.0   \n2     Function-based leadingedge pricing structure  108400.0  142523.0   \n3    Vision-oriented fresh-thinking conglomeration    4200.0    2477.0   \n4                        Proactive foreground core    7600.0    5265.0   \n..                                             ...       ...       ...   \n995            Vision-oriented scalable definition   97300.0  153216.0   \n996       Future-proofed upward-trending migration    6600.0    4814.0   \n997              Right-sized full-range throughput    7600.0    4603.0   \n998           Polarized composite customer loyalty   66600.0   37823.0   \n999                    Expanded eco-centric policy  111100.0   62819.0   \n\n        outcome  backers_count country currency launched_date    end_date  \\\n0        failed              0      CA      CAD    2020-02-13  2021-03-01   \n1    successful            158      US      USD    2021-01-25  2021-05-25   \n2    successful           1425      AU      AUD    2020-12-17  2021-12-30   \n3        failed             24      US      USD    2021-10-21  2022-01-17   \n4        failed             53      US      USD    2020-12-21  2021-08-23   \n..          ...            ...     ...      ...           ...         ...   \n995  successful           2043      US      USD    2020-12-29  2021-05-30   \n996      failed            112      US      USD    2021-10-15  2021-11-30   \n997    canceled            139      IT      EUR    2021-11-06  2021-12-10   \n998      failed            374      US      USD    2020-10-08  2021-04-11   \n999    canceled           1122      US      USD    2020-12-30  2021-08-18   \n\n     staff_pick  spotlight    category  subcategory  \n0         False      False        food  food trucks  \n1         False       True       music         rock  \n2         False      False  technology          web  \n3         False      False       music         rock  \n4         False      False     theater        plays  \n..          ...        ...         ...          ...  \n995       False       True        food  food trucks  \n996       False      False     theater        plays  \n997       False      False     theater        plays  \n998       False       True       music   indie rock  \n999       False      False        food  food trucks  \n\n[1000 rows x 16 columns]",
      "text/html": "<div>\n<style scoped>\n    .dataframe tbody tr th:only-of-type {\n        vertical-align: middle;\n    }\n\n    .dataframe tbody tr th {\n        vertical-align: top;\n    }\n\n    .dataframe thead th {\n        text-align: right;\n    }\n</style>\n<table border=\"1\" class=\"dataframe\">\n  <thead>\n    <tr style=\"text-align: right;\">\n      <th></th>\n      <th>cf_id</th>\n      <th>contact_id</th>\n      <th>company_name</th>\n      <th>description</th>\n      <th>goal</th>\n      <th>pledged</th>\n      <th>outcome</th>\n      <th>backers_count</th>\n      <th>country</th>\n      <th>currency</th>\n      <th>launched_date</th>\n      <th>end_date</th>\n      <th>staff_pick</th>\n      <th>spotlight</th>\n      <th>category</th>\n      <th>subcategory</th>\n    </tr>\n  </thead>\n  <tbody>\n    <tr>\n      <th>0</th>\n      <td>147</td>\n      <td>4661</td>\n      <td>Baldwin, Riley and Jackson</td>\n      <td>Pre-emptive tertiary standardization</td>\n      <td>100.0</td>\n      <td>0.0</td>\n      <td>failed</td>\n      <td>0</td>\n      <td>CA</td>\n      <td>CAD</td>\n      <td>2020-02-13</td>\n      <td>2021-03-01</td>\n      <td>False</td>\n      <td>False</td>\n      <td>food</td>\n      <td>food trucks</td>\n    </tr>\n    <tr>\n      <th>1</th>\n      <td>1621</td>\n      <td>3765</td>\n      <td>Odom Inc</td>\n      <td>Managed bottom-line architecture</td>\n      <td>1400.0</td>\n      <td>14560.0</td>\n      <td>successful</td>\n      <td>158</td>\n      <td>US</td>\n      <td>USD</td>\n      <td>2021-01-25</td>\n      <td>2021-05-25</td>\n      <td>False</td>\n      <td>True</td>\n      <td>music</td>\n      <td>rock</td>\n    </tr>\n    <tr>\n      <th>2</th>\n      <td>1812</td>\n      <td>4187</td>\n      <td>Melton, Robinson and Fritz</td>\n      <td>Function-based leadingedge pricing structure</td>\n      <td>108400.0</td>\n      <td>142523.0</td>\n      <td>successful</td>\n      <td>1425</td>\n      <td>AU</td>\n      <td>AUD</td>\n      <td>2020-12-17</td>\n      <td>2021-12-30</td>\n      <td>False</td>\n      <td>False</td>\n      <td>technology</td>\n      <td>web</td>\n    </tr>\n    <tr>\n      <th>3</th>\n      <td>2156</td>\n      <td>4941</td>\n      <td>Mcdonald, Gonzalez and Ross</td>\n      <td>Vision-oriented fresh-thinking conglomeration</td>\n      <td>4200.0</td>\n      <td>2477.0</td>\n      <td>failed</td>\n      <td>24</td>\n      <td>US</td>\n      <td>USD</td>\n      <td>2021-10-21</td>\n      <td>2022-01-17</td>\n      <td>False</td>\n      <td>False</td>\n      <td>music</td>\n      <td>rock</td>\n    </tr>\n    <tr>\n      <th>4</th>\n      <td>1365</td>\n      <td>2199</td>\n      <td>Larson-Little</td>\n      <td>Proactive foreground core</td>\n      <td>7600.0</td>\n      <td>5265.0</td>\n      <td>failed</td>\n      <td>53</td>\n      <td>US</td>\n      <td>USD</td>\n      <td>2020-12-21</td>\n      <td>2021-08-23</td>\n      <td>False</td>\n      <td>False</td>\n      <td>theater</td>\n      <td>plays</td>\n    </tr>\n    <tr>\n      <th>...</th>\n      <td>...</td>\n      <td>...</td>\n      <td>...</td>\n      <td>...</td>\n      <td>...</td>\n      <td>...</td>\n      <td>...</td>\n      <td>...</td>\n      <td>...</td>\n      <td>...</td>\n      <td>...</td>\n      <td>...</td>\n      <td>...</td>\n      <td>...</td>\n      <td>...</td>\n      <td>...</td>\n    </tr>\n    <tr>\n      <th>995</th>\n      <td>2986</td>\n      <td>3684</td>\n      <td>Manning-Hamilton</td>\n      <td>Vision-oriented scalable definition</td>\n      <td>97300.0</td>\n      <td>153216.0</td>\n      <td>successful</td>\n      <td>2043</td>\n      <td>US</td>\n      <td>USD</td>\n      <td>2020-12-29</td>\n      <td>2021-05-30</td>\n      <td>False</td>\n      <td>True</td>\n      <td>food</td>\n      <td>food trucks</td>\n    </tr>\n    <tr>\n      <th>996</th>\n      <td>2031</td>\n      <td>5784</td>\n      <td>Butler LLC</td>\n      <td>Future-proofed upward-trending migration</td>\n      <td>6600.0</td>\n      <td>4814.0</td>\n      <td>failed</td>\n      <td>112</td>\n      <td>US</td>\n      <td>USD</td>\n      <td>2021-10-15</td>\n      <td>2021-11-30</td>\n      <td>False</td>\n      <td>False</td>\n      <td>theater</td>\n      <td>plays</td>\n    </tr>\n    <tr>\n      <th>997</th>\n      <td>1627</td>\n      <td>1498</td>\n      <td>Ball LLC</td>\n      <td>Right-sized full-range throughput</td>\n      <td>7600.0</td>\n      <td>4603.0</td>\n      <td>canceled</td>\n      <td>139</td>\n      <td>IT</td>\n      <td>EUR</td>\n      <td>2021-11-06</td>\n      <td>2021-12-10</td>\n      <td>False</td>\n      <td>False</td>\n      <td>theater</td>\n      <td>plays</td>\n    </tr>\n    <tr>\n      <th>998</th>\n      <td>2175</td>\n      <td>6073</td>\n      <td>Taylor, Santiago and Flores</td>\n      <td>Polarized composite customer loyalty</td>\n      <td>66600.0</td>\n      <td>37823.0</td>\n      <td>failed</td>\n      <td>374</td>\n      <td>US</td>\n      <td>USD</td>\n      <td>2020-10-08</td>\n      <td>2021-04-11</td>\n      <td>False</td>\n      <td>True</td>\n      <td>music</td>\n      <td>indie rock</td>\n    </tr>\n    <tr>\n      <th>999</th>\n      <td>1788</td>\n      <td>4939</td>\n      <td>Hernandez, Norton and Kelley</td>\n      <td>Expanded eco-centric policy</td>\n      <td>111100.0</td>\n      <td>62819.0</td>\n      <td>canceled</td>\n      <td>1122</td>\n      <td>US</td>\n      <td>USD</td>\n      <td>2020-12-30</td>\n      <td>2021-08-18</td>\n      <td>False</td>\n      <td>False</td>\n      <td>food</td>\n      <td>food trucks</td>\n    </tr>\n  </tbody>\n</table>\n<p>1000 rows × 16 columns</p>\n</div>"
     },
     "execution_count": 29,
     "metadata": {},
     "output_type": "execute_result"
    }
   ],
   "source": [
    "campaign_df"
   ],
   "metadata": {
    "collapsed": false,
    "ExecuteTime": {
     "start_time": "2023-06-26T12:36:52.470452Z",
     "end_time": "2023-06-26T12:36:52.489382Z"
    }
   }
  },
  {
   "cell_type": "code",
   "execution_count": 30,
   "metadata": {
    "scrolled": false,
    "ExecuteTime": {
     "start_time": "2023-06-26T12:39:29.959497Z",
     "end_time": "2023-06-26T12:39:29.991526Z"
    }
   },
   "outputs": [
    {
     "data": {
      "text/plain": "     cf_id  contact_id                 company_name  \\\n990    399        5983       Dixon, Perez and Banks   \n991   1378        2873                 Clements Ltd   \n992    806        2961                   Walter Inc   \n993   1563        3043  Sanders, Farley and Huffman   \n994   1951        6013           Rodriguez-Robinson   \n995    461        3521              Erickson-Rogers   \n996   1095        3565               Young and Sons   \n997   1388        4517              Valenzuela-Cook   \n998   2448        2389                   Little Ltd   \n999    602        2153                  Giles-Smith   \n\n                                   description      goal  pledged     outcome  \\\n990      Re-engineered encompassing definition    8300.0   2111.0      failed   \n991   Persistent bandwidth-monitored framework    3700.0   1343.0      failed   \n992         Streamlined 5thgeneration intranet   10000.0   8142.0      failed   \n993      Cross-group clear-thinking task-force  172000.0  55805.0      failed   \n994                   Ergonomic methodical hub    5900.0   4997.0      failed   \n995       De-engineered even-keeled definition    9800.0   7608.0    canceled   \n996      Innovative disintermediate encryption    2400.0   4596.0  successful   \n997             Total incremental productivity    6700.0   7496.0  successful   \n998  Decentralized bandwidth-monitored ability    6900.0  12155.0  successful   \n999           Right-sized web-enabled intranet    9700.0  11929.0  successful   \n\n     backers_count country currency launched_date    end_date  staff_pick  \\\n990             57      CA      CAD    2021-12-29  2022-01-16       False   \n991             52      US      USD    2020-07-07  2021-07-27       False   \n992            263      AU      AUD    2020-12-20  2021-01-31       False   \n993           1691      US      USD    2021-04-08  2021-12-18        True   \n994            114      IT      EUR    2021-07-23  2021-11-25       False   \n995             75      IT      EUR    2021-07-03  2021-07-08       False   \n996            144      US      USD    2020-11-28  2021-02-28       False   \n997            300      US      USD    2021-01-04  2021-10-04       False   \n998            419      US      USD    2021-01-25  2021-04-18       False   \n999            331      US      USD    2022-02-01  2022-02-16       False   \n\n     spotlight     category        subcategory category_id subcategory_id  \n990      False  photography  photography books        cat8       subcat15  \n991      False  photography  photography books        cat8       subcat15  \n992      False  photography  photography books        cat8       subcat15  \n993      False  photography  photography books        cat8       subcat15  \n994       True  photography  photography books        cat8       subcat15  \n995       True  photography  photography books        cat8       subcat15  \n996      False   journalism              audio        cat9       subcat24  \n997      False   journalism              audio        cat9       subcat24  \n998      False   journalism              audio        cat9       subcat24  \n999      False   journalism              audio        cat9       subcat24  ",
      "text/html": "<div>\n<style scoped>\n    .dataframe tbody tr th:only-of-type {\n        vertical-align: middle;\n    }\n\n    .dataframe tbody tr th {\n        vertical-align: top;\n    }\n\n    .dataframe thead th {\n        text-align: right;\n    }\n</style>\n<table border=\"1\" class=\"dataframe\">\n  <thead>\n    <tr style=\"text-align: right;\">\n      <th></th>\n      <th>cf_id</th>\n      <th>contact_id</th>\n      <th>company_name</th>\n      <th>description</th>\n      <th>goal</th>\n      <th>pledged</th>\n      <th>outcome</th>\n      <th>backers_count</th>\n      <th>country</th>\n      <th>currency</th>\n      <th>launched_date</th>\n      <th>end_date</th>\n      <th>staff_pick</th>\n      <th>spotlight</th>\n      <th>category</th>\n      <th>subcategory</th>\n      <th>category_id</th>\n      <th>subcategory_id</th>\n    </tr>\n  </thead>\n  <tbody>\n    <tr>\n      <th>990</th>\n      <td>399</td>\n      <td>5983</td>\n      <td>Dixon, Perez and Banks</td>\n      <td>Re-engineered encompassing definition</td>\n      <td>8300.0</td>\n      <td>2111.0</td>\n      <td>failed</td>\n      <td>57</td>\n      <td>CA</td>\n      <td>CAD</td>\n      <td>2021-12-29</td>\n      <td>2022-01-16</td>\n      <td>False</td>\n      <td>False</td>\n      <td>photography</td>\n      <td>photography books</td>\n      <td>cat8</td>\n      <td>subcat15</td>\n    </tr>\n    <tr>\n      <th>991</th>\n      <td>1378</td>\n      <td>2873</td>\n      <td>Clements Ltd</td>\n      <td>Persistent bandwidth-monitored framework</td>\n      <td>3700.0</td>\n      <td>1343.0</td>\n      <td>failed</td>\n      <td>52</td>\n      <td>US</td>\n      <td>USD</td>\n      <td>2020-07-07</td>\n      <td>2021-07-27</td>\n      <td>False</td>\n      <td>False</td>\n      <td>photography</td>\n      <td>photography books</td>\n      <td>cat8</td>\n      <td>subcat15</td>\n    </tr>\n    <tr>\n      <th>992</th>\n      <td>806</td>\n      <td>2961</td>\n      <td>Walter Inc</td>\n      <td>Streamlined 5thgeneration intranet</td>\n      <td>10000.0</td>\n      <td>8142.0</td>\n      <td>failed</td>\n      <td>263</td>\n      <td>AU</td>\n      <td>AUD</td>\n      <td>2020-12-20</td>\n      <td>2021-01-31</td>\n      <td>False</td>\n      <td>False</td>\n      <td>photography</td>\n      <td>photography books</td>\n      <td>cat8</td>\n      <td>subcat15</td>\n    </tr>\n    <tr>\n      <th>993</th>\n      <td>1563</td>\n      <td>3043</td>\n      <td>Sanders, Farley and Huffman</td>\n      <td>Cross-group clear-thinking task-force</td>\n      <td>172000.0</td>\n      <td>55805.0</td>\n      <td>failed</td>\n      <td>1691</td>\n      <td>US</td>\n      <td>USD</td>\n      <td>2021-04-08</td>\n      <td>2021-12-18</td>\n      <td>True</td>\n      <td>False</td>\n      <td>photography</td>\n      <td>photography books</td>\n      <td>cat8</td>\n      <td>subcat15</td>\n    </tr>\n    <tr>\n      <th>994</th>\n      <td>1951</td>\n      <td>6013</td>\n      <td>Rodriguez-Robinson</td>\n      <td>Ergonomic methodical hub</td>\n      <td>5900.0</td>\n      <td>4997.0</td>\n      <td>failed</td>\n      <td>114</td>\n      <td>IT</td>\n      <td>EUR</td>\n      <td>2021-07-23</td>\n      <td>2021-11-25</td>\n      <td>False</td>\n      <td>True</td>\n      <td>photography</td>\n      <td>photography books</td>\n      <td>cat8</td>\n      <td>subcat15</td>\n    </tr>\n    <tr>\n      <th>995</th>\n      <td>461</td>\n      <td>3521</td>\n      <td>Erickson-Rogers</td>\n      <td>De-engineered even-keeled definition</td>\n      <td>9800.0</td>\n      <td>7608.0</td>\n      <td>canceled</td>\n      <td>75</td>\n      <td>IT</td>\n      <td>EUR</td>\n      <td>2021-07-03</td>\n      <td>2021-07-08</td>\n      <td>False</td>\n      <td>True</td>\n      <td>photography</td>\n      <td>photography books</td>\n      <td>cat8</td>\n      <td>subcat15</td>\n    </tr>\n    <tr>\n      <th>996</th>\n      <td>1095</td>\n      <td>3565</td>\n      <td>Young and Sons</td>\n      <td>Innovative disintermediate encryption</td>\n      <td>2400.0</td>\n      <td>4596.0</td>\n      <td>successful</td>\n      <td>144</td>\n      <td>US</td>\n      <td>USD</td>\n      <td>2020-11-28</td>\n      <td>2021-02-28</td>\n      <td>False</td>\n      <td>False</td>\n      <td>journalism</td>\n      <td>audio</td>\n      <td>cat9</td>\n      <td>subcat24</td>\n    </tr>\n    <tr>\n      <th>997</th>\n      <td>1388</td>\n      <td>4517</td>\n      <td>Valenzuela-Cook</td>\n      <td>Total incremental productivity</td>\n      <td>6700.0</td>\n      <td>7496.0</td>\n      <td>successful</td>\n      <td>300</td>\n      <td>US</td>\n      <td>USD</td>\n      <td>2021-01-04</td>\n      <td>2021-10-04</td>\n      <td>False</td>\n      <td>False</td>\n      <td>journalism</td>\n      <td>audio</td>\n      <td>cat9</td>\n      <td>subcat24</td>\n    </tr>\n    <tr>\n      <th>998</th>\n      <td>2448</td>\n      <td>2389</td>\n      <td>Little Ltd</td>\n      <td>Decentralized bandwidth-monitored ability</td>\n      <td>6900.0</td>\n      <td>12155.0</td>\n      <td>successful</td>\n      <td>419</td>\n      <td>US</td>\n      <td>USD</td>\n      <td>2021-01-25</td>\n      <td>2021-04-18</td>\n      <td>False</td>\n      <td>False</td>\n      <td>journalism</td>\n      <td>audio</td>\n      <td>cat9</td>\n      <td>subcat24</td>\n    </tr>\n    <tr>\n      <th>999</th>\n      <td>602</td>\n      <td>2153</td>\n      <td>Giles-Smith</td>\n      <td>Right-sized web-enabled intranet</td>\n      <td>9700.0</td>\n      <td>11929.0</td>\n      <td>successful</td>\n      <td>331</td>\n      <td>US</td>\n      <td>USD</td>\n      <td>2022-02-01</td>\n      <td>2022-02-16</td>\n      <td>False</td>\n      <td>False</td>\n      <td>journalism</td>\n      <td>audio</td>\n      <td>cat9</td>\n      <td>subcat24</td>\n    </tr>\n  </tbody>\n</table>\n</div>"
     },
     "execution_count": 30,
     "metadata": {},
     "output_type": "execute_result"
    }
   ],
   "source": [
    "# Merge the campaign_df with the category_df on the \"category\" column and \n",
    "# the subcategory_df on the \"subcategory\" column.\n",
    "campaign_cat_df=pd.merge(campaign_df , category_df , on='category')\n",
    "campaign_merged_df=pd.merge(campaign_cat_df , subcategory_df , on='subcategory')\n",
    "\n",
    "campaign_merged_df.tail(10)"
   ]
  },
  {
   "cell_type": "code",
   "execution_count": 31,
   "metadata": {
    "ExecuteTime": {
     "start_time": "2023-06-26T12:39:56.772679Z",
     "end_time": "2023-06-26T12:39:56.797900Z"
    }
   },
   "outputs": [],
   "source": [
    "# Drop unwanted columns\n",
    "campaign_clean=campaign_merged_df[['cf_id', 'contact_id','company_name',\n",
    "                                        'description','goal', 'pledged','outcome','backers_count', 'country',\n",
    "                                        'currency', 'launched_date','end_date', 'category_id','subcategory_id'\n",
    "                                       ]]"
   ]
  },
  {
   "cell_type": "code",
   "execution_count": 32,
   "metadata": {
    "ExecuteTime": {
     "start_time": "2023-06-26T12:40:05.133726Z",
     "end_time": "2023-06-26T12:40:05.166882Z"
    }
   },
   "outputs": [],
   "source": [
    "# Export the DataFrame as a CSV file. \n",
    "campaign_clean.to_csv(\"Resources/campaign.csv\", index=False)"
   ]
  },
  {
   "cell_type": "markdown",
   "metadata": {},
   "source": [
    "### Extract the contacts.xlsx Data."
   ]
  },
  {
   "cell_type": "code",
   "execution_count": 52,
   "metadata": {
    "ExecuteTime": {
     "start_time": "2023-06-26T13:02:39.705905Z",
     "end_time": "2023-06-26T13:02:39.762662Z"
    }
   },
   "outputs": [
    {
     "data": {
      "text/plain": "                                                                                            \n0                                                                               contact_info\n1   {\"contact_id\": 4661, \"name\": \"Cecilia Velasco\", \"email\": \"cecilia.velasco@rodrigues.fr\"}\n2          {\"contact_id\": 3765, \"name\": \"Mariana Ellis\", \"email\": \"mariana.ellis@rossi.org\"}\n3            {\"contact_id\": 4187, \"name\": \"Sofie Woods\", \"email\": \"sofie.woods@riviere.com\"}\n4  {\"contact_id\": 4941, \"name\": \"Jeanette Iannotti\", \"email\": \"jeanette.iannotti@yahoo.com\"}",
      "text/html": "<div>\n<style scoped>\n    .dataframe tbody tr th:only-of-type {\n        vertical-align: middle;\n    }\n\n    .dataframe tbody tr th {\n        vertical-align: top;\n    }\n\n    .dataframe thead th {\n        text-align: right;\n    }\n</style>\n<table border=\"1\" class=\"dataframe\">\n  <thead>\n    <tr style=\"text-align: right;\">\n      <th></th>\n      <th></th>\n    </tr>\n  </thead>\n  <tbody>\n    <tr>\n      <th>0</th>\n      <td>contact_info</td>\n    </tr>\n    <tr>\n      <th>1</th>\n      <td>{\"contact_id\": 4661, \"name\": \"Cecilia Velasco\", \"email\": \"cecilia.velasco@rodrigues.fr\"}</td>\n    </tr>\n    <tr>\n      <th>2</th>\n      <td>{\"contact_id\": 3765, \"name\": \"Mariana Ellis\", \"email\": \"mariana.ellis@rossi.org\"}</td>\n    </tr>\n    <tr>\n      <th>3</th>\n      <td>{\"contact_id\": 4187, \"name\": \"Sofie Woods\", \"email\": \"sofie.woods@riviere.com\"}</td>\n    </tr>\n    <tr>\n      <th>4</th>\n      <td>{\"contact_id\": 4941, \"name\": \"Jeanette Iannotti\", \"email\": \"jeanette.iannotti@yahoo.com\"}</td>\n    </tr>\n  </tbody>\n</table>\n</div>"
     },
     "execution_count": 52,
     "metadata": {},
     "output_type": "execute_result"
    }
   ],
   "source": [
    "# Read the data into a Pandas DataFrame. Use the `header=2` parameter when reading in the data.\n",
    "contact_info_df = pd.read_excel('Resources/contacts.xlsx',header=2)\n",
    "contact_info_df.head()"
   ]
  },
  {
   "cell_type": "code",
   "execution_count": 53,
   "outputs": [
    {
     "data": {
      "text/plain": "array(['contact_info'], dtype=object)"
     },
     "execution_count": 53,
     "metadata": {},
     "output_type": "execute_result"
    }
   ],
   "source": [
    "contact_info_df.values[0]"
   ],
   "metadata": {
    "collapsed": false,
    "ExecuteTime": {
     "start_time": "2023-06-26T13:03:04.147898Z",
     "end_time": "2023-06-26T13:03:04.159910Z"
    }
   }
  },
  {
   "cell_type": "code",
   "execution_count": 54,
   "outputs": [
    {
     "data": {
      "text/plain": "'   '"
     },
     "execution_count": 54,
     "metadata": {},
     "output_type": "execute_result"
    }
   ],
   "source": [
    "contact_info_df.columns[0]"
   ],
   "metadata": {
    "collapsed": false,
    "ExecuteTime": {
     "start_time": "2023-06-26T13:03:05.719955Z",
     "end_time": "2023-06-26T13:03:05.730965Z"
    }
   }
  },
  {
   "cell_type": "code",
   "execution_count": 62,
   "outputs": [],
   "source": [
    "clean_contacts = contact_info_df.values.tolist()\n",
    "clean_list = []\n",
    "for item in clean_contacts:\n",
    "    clean_list.append(item[0].split(\",\"))\n",
    "\n",
    "contacts = pd.DataFrame(clean_list, columns = [\"contact_id\",\"name\",\"email\"])"
   ],
   "metadata": {
    "collapsed": false,
    "ExecuteTime": {
     "start_time": "2023-06-26T13:09:49.216674Z",
     "end_time": "2023-06-26T13:09:49.227684Z"
    }
   }
  },
  {
   "cell_type": "code",
   "execution_count": 63,
   "outputs": [
    {
     "data": {
      "text/plain": "            contact_id                          name  \\\n0         contact_info                          None   \n1  {\"contact_id\": 4661     \"name\": \"Cecilia Velasco\"   \n2  {\"contact_id\": 3765       \"name\": \"Mariana Ellis\"   \n3  {\"contact_id\": 4187         \"name\": \"Sofie Woods\"   \n4  {\"contact_id\": 4941   \"name\": \"Jeanette Iannotti\"   \n\n                                       email  \n0                                       None  \n1   \"email\": \"cecilia.velasco@rodrigues.fr\"}  \n2        \"email\": \"mariana.ellis@rossi.org\"}  \n3        \"email\": \"sofie.woods@riviere.com\"}  \n4    \"email\": \"jeanette.iannotti@yahoo.com\"}  ",
      "text/html": "<div>\n<style scoped>\n    .dataframe tbody tr th:only-of-type {\n        vertical-align: middle;\n    }\n\n    .dataframe tbody tr th {\n        vertical-align: top;\n    }\n\n    .dataframe thead th {\n        text-align: right;\n    }\n</style>\n<table border=\"1\" class=\"dataframe\">\n  <thead>\n    <tr style=\"text-align: right;\">\n      <th></th>\n      <th>contact_id</th>\n      <th>name</th>\n      <th>email</th>\n    </tr>\n  </thead>\n  <tbody>\n    <tr>\n      <th>0</th>\n      <td>contact_info</td>\n      <td>None</td>\n      <td>None</td>\n    </tr>\n    <tr>\n      <th>1</th>\n      <td>{\"contact_id\": 4661</td>\n      <td>\"name\": \"Cecilia Velasco\"</td>\n      <td>\"email\": \"cecilia.velasco@rodrigues.fr\"}</td>\n    </tr>\n    <tr>\n      <th>2</th>\n      <td>{\"contact_id\": 3765</td>\n      <td>\"name\": \"Mariana Ellis\"</td>\n      <td>\"email\": \"mariana.ellis@rossi.org\"}</td>\n    </tr>\n    <tr>\n      <th>3</th>\n      <td>{\"contact_id\": 4187</td>\n      <td>\"name\": \"Sofie Woods\"</td>\n      <td>\"email\": \"sofie.woods@riviere.com\"}</td>\n    </tr>\n    <tr>\n      <th>4</th>\n      <td>{\"contact_id\": 4941</td>\n      <td>\"name\": \"Jeanette Iannotti\"</td>\n      <td>\"email\": \"jeanette.iannotti@yahoo.com\"}</td>\n    </tr>\n  </tbody>\n</table>\n</div>"
     },
     "execution_count": 63,
     "metadata": {},
     "output_type": "execute_result"
    }
   ],
   "source": [
    "contacts.head()"
   ],
   "metadata": {
    "collapsed": false,
    "ExecuteTime": {
     "start_time": "2023-06-26T13:09:49.966183Z",
     "end_time": "2023-06-26T13:09:49.982197Z"
    }
   }
  },
  {
   "cell_type": "code",
   "execution_count": 64,
   "outputs": [],
   "source": [
    "contacts = contacts.drop(labels=0, axis=0)"
   ],
   "metadata": {
    "collapsed": false,
    "ExecuteTime": {
     "start_time": "2023-06-26T13:09:50.718897Z",
     "end_time": "2023-06-26T13:09:50.737662Z"
    }
   }
  },
  {
   "cell_type": "code",
   "execution_count": 65,
   "outputs": [
    {
     "data": {
      "text/plain": "               contact_id                             name  \\\n1     {\"contact_id\": 4661        \"name\": \"Cecilia Velasco\"   \n2     {\"contact_id\": 3765          \"name\": \"Mariana Ellis\"   \n3     {\"contact_id\": 4187            \"name\": \"Sofie Woods\"   \n4     {\"contact_id\": 4941      \"name\": \"Jeanette Iannotti\"   \n5     {\"contact_id\": 2199         \"name\": \"Samuel Sorgatz\"   \n...                   ...                              ...   \n996   {\"contact_id\": 3684          \"name\": \"Whitney Noack\"   \n997   {\"contact_id\": 5784   \"name\": \"Gelsomina Migliaccio\"   \n998   {\"contact_id\": 1498    \"name\": \"Evangelista Pereira\"   \n999   {\"contact_id\": 6073         \"name\": \"Gareth Comolli\"   \n1000  {\"contact_id\": 4939      \"name\": \"Michelangelo Hess\"   \n\n                                                       email  \n1                   \"email\": \"cecilia.velasco@rodrigues.fr\"}  \n2                        \"email\": \"mariana.ellis@rossi.org\"}  \n3                        \"email\": \"sofie.woods@riviere.com\"}  \n4                    \"email\": \"jeanette.iannotti@yahoo.com\"}  \n5                       \"email\": \"samuel.sorgatz@gmail.com\"}  \n...                                                      ...  \n996               \"email\": \"whitney.noack@laboratorios.org\"}  \n997                \"email\": \"gelsomina.migliaccio@junk.com\"}  \n998    \"email\": \"evangelista.pereira@thompson-peterson.biz\"}  \n999                    \"email\": \"gareth.comolli@tiscali.fr\"}  \n1000               \"email\": \"michelangelo.hess@bouygtel.fr\"}  \n\n[1000 rows x 3 columns]",
      "text/html": "<div>\n<style scoped>\n    .dataframe tbody tr th:only-of-type {\n        vertical-align: middle;\n    }\n\n    .dataframe tbody tr th {\n        vertical-align: top;\n    }\n\n    .dataframe thead th {\n        text-align: right;\n    }\n</style>\n<table border=\"1\" class=\"dataframe\">\n  <thead>\n    <tr style=\"text-align: right;\">\n      <th></th>\n      <th>contact_id</th>\n      <th>name</th>\n      <th>email</th>\n    </tr>\n  </thead>\n  <tbody>\n    <tr>\n      <th>1</th>\n      <td>{\"contact_id\": 4661</td>\n      <td>\"name\": \"Cecilia Velasco\"</td>\n      <td>\"email\": \"cecilia.velasco@rodrigues.fr\"}</td>\n    </tr>\n    <tr>\n      <th>2</th>\n      <td>{\"contact_id\": 3765</td>\n      <td>\"name\": \"Mariana Ellis\"</td>\n      <td>\"email\": \"mariana.ellis@rossi.org\"}</td>\n    </tr>\n    <tr>\n      <th>3</th>\n      <td>{\"contact_id\": 4187</td>\n      <td>\"name\": \"Sofie Woods\"</td>\n      <td>\"email\": \"sofie.woods@riviere.com\"}</td>\n    </tr>\n    <tr>\n      <th>4</th>\n      <td>{\"contact_id\": 4941</td>\n      <td>\"name\": \"Jeanette Iannotti\"</td>\n      <td>\"email\": \"jeanette.iannotti@yahoo.com\"}</td>\n    </tr>\n    <tr>\n      <th>5</th>\n      <td>{\"contact_id\": 2199</td>\n      <td>\"name\": \"Samuel Sorgatz\"</td>\n      <td>\"email\": \"samuel.sorgatz@gmail.com\"}</td>\n    </tr>\n    <tr>\n      <th>...</th>\n      <td>...</td>\n      <td>...</td>\n      <td>...</td>\n    </tr>\n    <tr>\n      <th>996</th>\n      <td>{\"contact_id\": 3684</td>\n      <td>\"name\": \"Whitney Noack\"</td>\n      <td>\"email\": \"whitney.noack@laboratorios.org\"}</td>\n    </tr>\n    <tr>\n      <th>997</th>\n      <td>{\"contact_id\": 5784</td>\n      <td>\"name\": \"Gelsomina Migliaccio\"</td>\n      <td>\"email\": \"gelsomina.migliaccio@junk.com\"}</td>\n    </tr>\n    <tr>\n      <th>998</th>\n      <td>{\"contact_id\": 1498</td>\n      <td>\"name\": \"Evangelista Pereira\"</td>\n      <td>\"email\": \"evangelista.pereira@thompson-peterson.biz\"}</td>\n    </tr>\n    <tr>\n      <th>999</th>\n      <td>{\"contact_id\": 6073</td>\n      <td>\"name\": \"Gareth Comolli\"</td>\n      <td>\"email\": \"gareth.comolli@tiscali.fr\"}</td>\n    </tr>\n    <tr>\n      <th>1000</th>\n      <td>{\"contact_id\": 4939</td>\n      <td>\"name\": \"Michelangelo Hess\"</td>\n      <td>\"email\": \"michelangelo.hess@bouygtel.fr\"}</td>\n    </tr>\n  </tbody>\n</table>\n<p>1000 rows × 3 columns</p>\n</div>"
     },
     "execution_count": 65,
     "metadata": {},
     "output_type": "execute_result"
    }
   ],
   "source": [
    "contacts"
   ],
   "metadata": {
    "collapsed": false,
    "ExecuteTime": {
     "start_time": "2023-06-26T13:10:06.132909Z",
     "end_time": "2023-06-26T13:10:06.175944Z"
    }
   }
  },
  {
   "cell_type": "code",
   "execution_count": 68,
   "outputs": [
    {
     "ename": "AttributeError",
     "evalue": "Can only use .str accessor with string values!",
     "output_type": "error",
     "traceback": [
      "\u001B[1;31m---------------------------------------------------------------------------\u001B[0m",
      "\u001B[1;31mAttributeError\u001B[0m                            Traceback (most recent call last)",
      "Cell \u001B[1;32mIn[68], line 1\u001B[0m\n\u001B[1;32m----> 1\u001B[0m contacts[\u001B[38;5;124m\"\u001B[39m\u001B[38;5;124mcontact_id\u001B[39m\u001B[38;5;124m\"\u001B[39m] \u001B[38;5;241m=\u001B[39m pd\u001B[38;5;241m.\u001B[39mto_numeric(\u001B[43mcontacts\u001B[49m\u001B[38;5;241;43m.\u001B[39;49m\u001B[43mcontact_id\u001B[49m\u001B[38;5;241;43m.\u001B[39;49m\u001B[43mstr\u001B[49m\u001B[38;5;241m.\u001B[39mstrip(\u001B[38;5;124m\"\"\"\u001B[39m\u001B[38;5;124m{\u001B[39m\u001B[38;5;124m\"\u001B[39m\u001B[38;5;124mcontact_id\u001B[39m\u001B[38;5;124m\"\u001B[39m\u001B[38;5;124m:\u001B[39m\u001B[38;5;124m\"\"\"\u001B[39m))\n\u001B[0;32m      2\u001B[0m contacts\n",
      "File \u001B[1;32m~\\anaconda3\\lib\\site-packages\\pandas\\core\\generic.py:5902\u001B[0m, in \u001B[0;36mNDFrame.__getattr__\u001B[1;34m(self, name)\u001B[0m\n\u001B[0;32m   5895\u001B[0m \u001B[38;5;28;01mif\u001B[39;00m (\n\u001B[0;32m   5896\u001B[0m     name \u001B[38;5;129;01mnot\u001B[39;00m \u001B[38;5;129;01min\u001B[39;00m \u001B[38;5;28mself\u001B[39m\u001B[38;5;241m.\u001B[39m_internal_names_set\n\u001B[0;32m   5897\u001B[0m     \u001B[38;5;129;01mand\u001B[39;00m name \u001B[38;5;129;01mnot\u001B[39;00m \u001B[38;5;129;01min\u001B[39;00m \u001B[38;5;28mself\u001B[39m\u001B[38;5;241m.\u001B[39m_metadata\n\u001B[0;32m   5898\u001B[0m     \u001B[38;5;129;01mand\u001B[39;00m name \u001B[38;5;129;01mnot\u001B[39;00m \u001B[38;5;129;01min\u001B[39;00m \u001B[38;5;28mself\u001B[39m\u001B[38;5;241m.\u001B[39m_accessors\n\u001B[0;32m   5899\u001B[0m     \u001B[38;5;129;01mand\u001B[39;00m \u001B[38;5;28mself\u001B[39m\u001B[38;5;241m.\u001B[39m_info_axis\u001B[38;5;241m.\u001B[39m_can_hold_identifiers_and_holds_name(name)\n\u001B[0;32m   5900\u001B[0m ):\n\u001B[0;32m   5901\u001B[0m     \u001B[38;5;28;01mreturn\u001B[39;00m \u001B[38;5;28mself\u001B[39m[name]\n\u001B[1;32m-> 5902\u001B[0m \u001B[38;5;28;01mreturn\u001B[39;00m \u001B[38;5;28;43mobject\u001B[39;49m\u001B[38;5;241;43m.\u001B[39;49m\u001B[38;5;21;43m__getattribute__\u001B[39;49m\u001B[43m(\u001B[49m\u001B[38;5;28;43mself\u001B[39;49m\u001B[43m,\u001B[49m\u001B[43m \u001B[49m\u001B[43mname\u001B[49m\u001B[43m)\u001B[49m\n",
      "File \u001B[1;32m~\\anaconda3\\lib\\site-packages\\pandas\\core\\accessor.py:182\u001B[0m, in \u001B[0;36mCachedAccessor.__get__\u001B[1;34m(self, obj, cls)\u001B[0m\n\u001B[0;32m    179\u001B[0m \u001B[38;5;28;01mif\u001B[39;00m obj \u001B[38;5;129;01mis\u001B[39;00m \u001B[38;5;28;01mNone\u001B[39;00m:\n\u001B[0;32m    180\u001B[0m     \u001B[38;5;66;03m# we're accessing the attribute of the class, i.e., Dataset.geo\u001B[39;00m\n\u001B[0;32m    181\u001B[0m     \u001B[38;5;28;01mreturn\u001B[39;00m \u001B[38;5;28mself\u001B[39m\u001B[38;5;241m.\u001B[39m_accessor\n\u001B[1;32m--> 182\u001B[0m accessor_obj \u001B[38;5;241m=\u001B[39m \u001B[38;5;28;43mself\u001B[39;49m\u001B[38;5;241;43m.\u001B[39;49m\u001B[43m_accessor\u001B[49m\u001B[43m(\u001B[49m\u001B[43mobj\u001B[49m\u001B[43m)\u001B[49m\n\u001B[0;32m    183\u001B[0m \u001B[38;5;66;03m# Replace the property with the accessor object. Inspired by:\u001B[39;00m\n\u001B[0;32m    184\u001B[0m \u001B[38;5;66;03m# https://www.pydanny.com/cached-property.html\u001B[39;00m\n\u001B[0;32m    185\u001B[0m \u001B[38;5;66;03m# We need to use object.__setattr__ because we overwrite __setattr__ on\u001B[39;00m\n\u001B[0;32m    186\u001B[0m \u001B[38;5;66;03m# NDFrame\u001B[39;00m\n\u001B[0;32m    187\u001B[0m \u001B[38;5;28mobject\u001B[39m\u001B[38;5;241m.\u001B[39m\u001B[38;5;21m__setattr__\u001B[39m(obj, \u001B[38;5;28mself\u001B[39m\u001B[38;5;241m.\u001B[39m_name, accessor_obj)\n",
      "File \u001B[1;32m~\\anaconda3\\lib\\site-packages\\pandas\\core\\strings\\accessor.py:181\u001B[0m, in \u001B[0;36mStringMethods.__init__\u001B[1;34m(self, data)\u001B[0m\n\u001B[0;32m    178\u001B[0m \u001B[38;5;28;01mdef\u001B[39;00m \u001B[38;5;21m__init__\u001B[39m(\u001B[38;5;28mself\u001B[39m, data) \u001B[38;5;241m-\u001B[39m\u001B[38;5;241m>\u001B[39m \u001B[38;5;28;01mNone\u001B[39;00m:\n\u001B[0;32m    179\u001B[0m     \u001B[38;5;28;01mfrom\u001B[39;00m \u001B[38;5;21;01mpandas\u001B[39;00m\u001B[38;5;21;01m.\u001B[39;00m\u001B[38;5;21;01mcore\u001B[39;00m\u001B[38;5;21;01m.\u001B[39;00m\u001B[38;5;21;01marrays\u001B[39;00m\u001B[38;5;21;01m.\u001B[39;00m\u001B[38;5;21;01mstring_\u001B[39;00m \u001B[38;5;28;01mimport\u001B[39;00m StringDtype\n\u001B[1;32m--> 181\u001B[0m     \u001B[38;5;28mself\u001B[39m\u001B[38;5;241m.\u001B[39m_inferred_dtype \u001B[38;5;241m=\u001B[39m \u001B[38;5;28;43mself\u001B[39;49m\u001B[38;5;241;43m.\u001B[39;49m\u001B[43m_validate\u001B[49m\u001B[43m(\u001B[49m\u001B[43mdata\u001B[49m\u001B[43m)\u001B[49m\n\u001B[0;32m    182\u001B[0m     \u001B[38;5;28mself\u001B[39m\u001B[38;5;241m.\u001B[39m_is_categorical \u001B[38;5;241m=\u001B[39m is_categorical_dtype(data\u001B[38;5;241m.\u001B[39mdtype)\n\u001B[0;32m    183\u001B[0m     \u001B[38;5;28mself\u001B[39m\u001B[38;5;241m.\u001B[39m_is_string \u001B[38;5;241m=\u001B[39m \u001B[38;5;28misinstance\u001B[39m(data\u001B[38;5;241m.\u001B[39mdtype, StringDtype)\n",
      "File \u001B[1;32m~\\anaconda3\\lib\\site-packages\\pandas\\core\\strings\\accessor.py:235\u001B[0m, in \u001B[0;36mStringMethods._validate\u001B[1;34m(data)\u001B[0m\n\u001B[0;32m    232\u001B[0m inferred_dtype \u001B[38;5;241m=\u001B[39m lib\u001B[38;5;241m.\u001B[39minfer_dtype(values, skipna\u001B[38;5;241m=\u001B[39m\u001B[38;5;28;01mTrue\u001B[39;00m)\n\u001B[0;32m    234\u001B[0m \u001B[38;5;28;01mif\u001B[39;00m inferred_dtype \u001B[38;5;129;01mnot\u001B[39;00m \u001B[38;5;129;01min\u001B[39;00m allowed_types:\n\u001B[1;32m--> 235\u001B[0m     \u001B[38;5;28;01mraise\u001B[39;00m \u001B[38;5;167;01mAttributeError\u001B[39;00m(\u001B[38;5;124m\"\u001B[39m\u001B[38;5;124mCan only use .str accessor with string values!\u001B[39m\u001B[38;5;124m\"\u001B[39m)\n\u001B[0;32m    236\u001B[0m \u001B[38;5;28;01mreturn\u001B[39;00m inferred_dtype\n",
      "\u001B[1;31mAttributeError\u001B[0m: Can only use .str accessor with string values!"
     ]
    }
   ],
   "source": [
    "contacts[\"contact_id\"] = pd.to_numeric(contacts.contact_id.str.strip(\"\"\"{\"contact_id\":\"\"\"))"
   ],
   "metadata": {
    "collapsed": false,
    "ExecuteTime": {
     "start_time": "2023-06-26T13:11:50.485906Z",
     "end_time": "2023-06-26T13:11:50.502922Z"
    }
   }
  },
  {
   "cell_type": "code",
   "execution_count": 70,
   "outputs": [
    {
     "data": {
      "text/plain": "      contact_id                             name  \\\n1           4661        \"name\": \"Cecilia Velasco\"   \n2           3765          \"name\": \"Mariana Ellis\"   \n3           4187            \"name\": \"Sofie Woods\"   \n4           4941      \"name\": \"Jeanette Iannotti\"   \n5           2199         \"name\": \"Samuel Sorgatz\"   \n...          ...                              ...   \n996         3684          \"name\": \"Whitney Noack\"   \n997         5784   \"name\": \"Gelsomina Migliaccio\"   \n998         1498    \"name\": \"Evangelista Pereira\"   \n999         6073         \"name\": \"Gareth Comolli\"   \n1000        4939      \"name\": \"Michelangelo Hess\"   \n\n                                                       email  \n1                   \"email\": \"cecilia.velasco@rodrigues.fr\"}  \n2                        \"email\": \"mariana.ellis@rossi.org\"}  \n3                        \"email\": \"sofie.woods@riviere.com\"}  \n4                    \"email\": \"jeanette.iannotti@yahoo.com\"}  \n5                       \"email\": \"samuel.sorgatz@gmail.com\"}  \n...                                                      ...  \n996               \"email\": \"whitney.noack@laboratorios.org\"}  \n997                \"email\": \"gelsomina.migliaccio@junk.com\"}  \n998    \"email\": \"evangelista.pereira@thompson-peterson.biz\"}  \n999                    \"email\": \"gareth.comolli@tiscali.fr\"}  \n1000               \"email\": \"michelangelo.hess@bouygtel.fr\"}  \n\n[1000 rows x 3 columns]",
      "text/html": "<div>\n<style scoped>\n    .dataframe tbody tr th:only-of-type {\n        vertical-align: middle;\n    }\n\n    .dataframe tbody tr th {\n        vertical-align: top;\n    }\n\n    .dataframe thead th {\n        text-align: right;\n    }\n</style>\n<table border=\"1\" class=\"dataframe\">\n  <thead>\n    <tr style=\"text-align: right;\">\n      <th></th>\n      <th>contact_id</th>\n      <th>name</th>\n      <th>email</th>\n    </tr>\n  </thead>\n  <tbody>\n    <tr>\n      <th>1</th>\n      <td>4661</td>\n      <td>\"name\": \"Cecilia Velasco\"</td>\n      <td>\"email\": \"cecilia.velasco@rodrigues.fr\"}</td>\n    </tr>\n    <tr>\n      <th>2</th>\n      <td>3765</td>\n      <td>\"name\": \"Mariana Ellis\"</td>\n      <td>\"email\": \"mariana.ellis@rossi.org\"}</td>\n    </tr>\n    <tr>\n      <th>3</th>\n      <td>4187</td>\n      <td>\"name\": \"Sofie Woods\"</td>\n      <td>\"email\": \"sofie.woods@riviere.com\"}</td>\n    </tr>\n    <tr>\n      <th>4</th>\n      <td>4941</td>\n      <td>\"name\": \"Jeanette Iannotti\"</td>\n      <td>\"email\": \"jeanette.iannotti@yahoo.com\"}</td>\n    </tr>\n    <tr>\n      <th>5</th>\n      <td>2199</td>\n      <td>\"name\": \"Samuel Sorgatz\"</td>\n      <td>\"email\": \"samuel.sorgatz@gmail.com\"}</td>\n    </tr>\n    <tr>\n      <th>...</th>\n      <td>...</td>\n      <td>...</td>\n      <td>...</td>\n    </tr>\n    <tr>\n      <th>996</th>\n      <td>3684</td>\n      <td>\"name\": \"Whitney Noack\"</td>\n      <td>\"email\": \"whitney.noack@laboratorios.org\"}</td>\n    </tr>\n    <tr>\n      <th>997</th>\n      <td>5784</td>\n      <td>\"name\": \"Gelsomina Migliaccio\"</td>\n      <td>\"email\": \"gelsomina.migliaccio@junk.com\"}</td>\n    </tr>\n    <tr>\n      <th>998</th>\n      <td>1498</td>\n      <td>\"name\": \"Evangelista Pereira\"</td>\n      <td>\"email\": \"evangelista.pereira@thompson-peterson.biz\"}</td>\n    </tr>\n    <tr>\n      <th>999</th>\n      <td>6073</td>\n      <td>\"name\": \"Gareth Comolli\"</td>\n      <td>\"email\": \"gareth.comolli@tiscali.fr\"}</td>\n    </tr>\n    <tr>\n      <th>1000</th>\n      <td>4939</td>\n      <td>\"name\": \"Michelangelo Hess\"</td>\n      <td>\"email\": \"michelangelo.hess@bouygtel.fr\"}</td>\n    </tr>\n  </tbody>\n</table>\n<p>1000 rows × 3 columns</p>\n</div>"
     },
     "execution_count": 70,
     "metadata": {},
     "output_type": "execute_result"
    }
   ],
   "source": [
    "contacts"
   ],
   "metadata": {
    "collapsed": false,
    "ExecuteTime": {
     "start_time": "2023-06-26T13:13:21.838921Z",
     "end_time": "2023-06-26T13:13:21.861419Z"
    }
   }
  },
  {
   "cell_type": "markdown",
   "metadata": {},
   "source": [
    "### Create the Contacts DataFrame \n",
    "---\n",
    "**Create a Contacts DataFrame that has the following columns:**\n",
    "- A column named \"contact_id\"  that contains the unique number of the contact person.\n",
    "- A column named \"first_name\" that contains the first name of the contact person.\n",
    "- A column named \"last_name\" that contains the first name of the contact person.\n",
    "- A column named \"email\" that contains the email address of the contact person\n",
    "\n",
    "Then export the DataFrame as a `contacts.csv` CSV file."
   ]
  },
  {
   "cell_type": "markdown",
   "metadata": {},
   "source": [
    "### Option 1: Use Pandas to create the contacts DataFrame."
   ]
  },
  {
   "cell_type": "code",
   "execution_count": 40,
   "metadata": {},
   "outputs": [
    {
     "ename": "JSONDecodeError",
     "evalue": "Expecting value: line 1 column 1 (char 0)",
     "output_type": "error",
     "traceback": [
      "\u001B[1;31m---------------------------------------------------------------------------\u001B[0m",
      "\u001B[1;31mJSONDecodeError\u001B[0m                           Traceback (most recent call last)",
      "Cell \u001B[1;32mIn[40], line 6\u001B[0m\n\u001B[0;32m      4\u001B[0m \u001B[38;5;28;01mfor\u001B[39;00m i, row \u001B[38;5;129;01min\u001B[39;00m contact_info_df\u001B[38;5;241m.\u001B[39miterrows():\n\u001B[0;32m      5\u001B[0m     data \u001B[38;5;241m=\u001B[39m row[\u001B[38;5;241m0\u001B[39m]\n\u001B[1;32m----> 6\u001B[0m     converted_data \u001B[38;5;241m=\u001B[39m \u001B[43mjson\u001B[49m\u001B[38;5;241;43m.\u001B[39;49m\u001B[43mloads\u001B[49m\u001B[43m(\u001B[49m\u001B[43mdata\u001B[49m\u001B[43m)\u001B[49m\n\u001B[0;32m      7\u001B[0m     \u001B[38;5;66;03m# Iterate through each dictionary (row) and get the values for each row using list comprehension.\u001B[39;00m\n\u001B[0;32m      8\u001B[0m     row_values \u001B[38;5;241m=\u001B[39m[v \u001B[38;5;28;01mfor\u001B[39;00m k, v \u001B[38;5;129;01min\u001B[39;00m converted_data\u001B[38;5;241m.\u001B[39mitems()]\n",
      "File \u001B[1;32m~\\anaconda3\\lib\\json\\__init__.py:346\u001B[0m, in \u001B[0;36mloads\u001B[1;34m(s, cls, object_hook, parse_float, parse_int, parse_constant, object_pairs_hook, **kw)\u001B[0m\n\u001B[0;32m    341\u001B[0m     s \u001B[38;5;241m=\u001B[39m s\u001B[38;5;241m.\u001B[39mdecode(detect_encoding(s), \u001B[38;5;124m'\u001B[39m\u001B[38;5;124msurrogatepass\u001B[39m\u001B[38;5;124m'\u001B[39m)\n\u001B[0;32m    343\u001B[0m \u001B[38;5;28;01mif\u001B[39;00m (\u001B[38;5;28mcls\u001B[39m \u001B[38;5;129;01mis\u001B[39;00m \u001B[38;5;28;01mNone\u001B[39;00m \u001B[38;5;129;01mand\u001B[39;00m object_hook \u001B[38;5;129;01mis\u001B[39;00m \u001B[38;5;28;01mNone\u001B[39;00m \u001B[38;5;129;01mand\u001B[39;00m\n\u001B[0;32m    344\u001B[0m         parse_int \u001B[38;5;129;01mis\u001B[39;00m \u001B[38;5;28;01mNone\u001B[39;00m \u001B[38;5;129;01mand\u001B[39;00m parse_float \u001B[38;5;129;01mis\u001B[39;00m \u001B[38;5;28;01mNone\u001B[39;00m \u001B[38;5;129;01mand\u001B[39;00m\n\u001B[0;32m    345\u001B[0m         parse_constant \u001B[38;5;129;01mis\u001B[39;00m \u001B[38;5;28;01mNone\u001B[39;00m \u001B[38;5;129;01mand\u001B[39;00m object_pairs_hook \u001B[38;5;129;01mis\u001B[39;00m \u001B[38;5;28;01mNone\u001B[39;00m \u001B[38;5;129;01mand\u001B[39;00m \u001B[38;5;129;01mnot\u001B[39;00m kw):\n\u001B[1;32m--> 346\u001B[0m     \u001B[38;5;28;01mreturn\u001B[39;00m \u001B[43m_default_decoder\u001B[49m\u001B[38;5;241;43m.\u001B[39;49m\u001B[43mdecode\u001B[49m\u001B[43m(\u001B[49m\u001B[43ms\u001B[49m\u001B[43m)\u001B[49m\n\u001B[0;32m    347\u001B[0m \u001B[38;5;28;01mif\u001B[39;00m \u001B[38;5;28mcls\u001B[39m \u001B[38;5;129;01mis\u001B[39;00m \u001B[38;5;28;01mNone\u001B[39;00m:\n\u001B[0;32m    348\u001B[0m     \u001B[38;5;28mcls\u001B[39m \u001B[38;5;241m=\u001B[39m JSONDecoder\n",
      "File \u001B[1;32m~\\anaconda3\\lib\\json\\decoder.py:337\u001B[0m, in \u001B[0;36mJSONDecoder.decode\u001B[1;34m(self, s, _w)\u001B[0m\n\u001B[0;32m    332\u001B[0m \u001B[38;5;28;01mdef\u001B[39;00m \u001B[38;5;21mdecode\u001B[39m(\u001B[38;5;28mself\u001B[39m, s, _w\u001B[38;5;241m=\u001B[39mWHITESPACE\u001B[38;5;241m.\u001B[39mmatch):\n\u001B[0;32m    333\u001B[0m     \u001B[38;5;124;03m\"\"\"Return the Python representation of ``s`` (a ``str`` instance\u001B[39;00m\n\u001B[0;32m    334\u001B[0m \u001B[38;5;124;03m    containing a JSON document).\u001B[39;00m\n\u001B[0;32m    335\u001B[0m \n\u001B[0;32m    336\u001B[0m \u001B[38;5;124;03m    \"\"\"\u001B[39;00m\n\u001B[1;32m--> 337\u001B[0m     obj, end \u001B[38;5;241m=\u001B[39m \u001B[38;5;28;43mself\u001B[39;49m\u001B[38;5;241;43m.\u001B[39;49m\u001B[43mraw_decode\u001B[49m\u001B[43m(\u001B[49m\u001B[43ms\u001B[49m\u001B[43m,\u001B[49m\u001B[43m \u001B[49m\u001B[43midx\u001B[49m\u001B[38;5;241;43m=\u001B[39;49m\u001B[43m_w\u001B[49m\u001B[43m(\u001B[49m\u001B[43ms\u001B[49m\u001B[43m,\u001B[49m\u001B[43m \u001B[49m\u001B[38;5;241;43m0\u001B[39;49m\u001B[43m)\u001B[49m\u001B[38;5;241;43m.\u001B[39;49m\u001B[43mend\u001B[49m\u001B[43m(\u001B[49m\u001B[43m)\u001B[49m\u001B[43m)\u001B[49m\n\u001B[0;32m    338\u001B[0m     end \u001B[38;5;241m=\u001B[39m _w(s, end)\u001B[38;5;241m.\u001B[39mend()\n\u001B[0;32m    339\u001B[0m     \u001B[38;5;28;01mif\u001B[39;00m end \u001B[38;5;241m!=\u001B[39m \u001B[38;5;28mlen\u001B[39m(s):\n",
      "File \u001B[1;32m~\\anaconda3\\lib\\json\\decoder.py:355\u001B[0m, in \u001B[0;36mJSONDecoder.raw_decode\u001B[1;34m(self, s, idx)\u001B[0m\n\u001B[0;32m    353\u001B[0m     obj, end \u001B[38;5;241m=\u001B[39m \u001B[38;5;28mself\u001B[39m\u001B[38;5;241m.\u001B[39mscan_once(s, idx)\n\u001B[0;32m    354\u001B[0m \u001B[38;5;28;01mexcept\u001B[39;00m \u001B[38;5;167;01mStopIteration\u001B[39;00m \u001B[38;5;28;01mas\u001B[39;00m err:\n\u001B[1;32m--> 355\u001B[0m     \u001B[38;5;28;01mraise\u001B[39;00m JSONDecodeError(\u001B[38;5;124m\"\u001B[39m\u001B[38;5;124mExpecting value\u001B[39m\u001B[38;5;124m\"\u001B[39m, s, err\u001B[38;5;241m.\u001B[39mvalue) \u001B[38;5;28;01mfrom\u001B[39;00m \u001B[38;5;28mNone\u001B[39m\n\u001B[0;32m    356\u001B[0m \u001B[38;5;28;01mreturn\u001B[39;00m obj, end\n",
      "\u001B[1;31mJSONDecodeError\u001B[0m: Expecting value: line 1 column 1 (char 0)"
     ]
    }
   ],
   "source": [
    "# Iterate through the contact_info_df and convert each row to a dictionary.\n",
    "\n",
    "dict_values = []\n",
    "\n",
    "# Print out the list of values for each row.\n",
    "print(dict_values)"
   ]
  },
  {
   "cell_type": "code",
   "execution_count": 25,
   "metadata": {},
   "outputs": [
    {
     "data": {
      "text/html": [
       "<div>\n",
       "<style scoped>\n",
       "    .dataframe tbody tr th:only-of-type {\n",
       "        vertical-align: middle;\n",
       "    }\n",
       "\n",
       "    .dataframe tbody tr th {\n",
       "        vertical-align: top;\n",
       "    }\n",
       "\n",
       "    .dataframe thead th {\n",
       "        text-align: right;\n",
       "    }\n",
       "</style>\n",
       "<table border=\"1\" class=\"dataframe\">\n",
       "  <thead>\n",
       "    <tr style=\"text-align: right;\">\n",
       "      <th></th>\n",
       "      <th>contact_id</th>\n",
       "      <th>name</th>\n",
       "      <th>email</th>\n",
       "    </tr>\n",
       "  </thead>\n",
       "  <tbody>\n",
       "    <tr>\n",
       "      <th>0</th>\n",
       "      <td>4661</td>\n",
       "      <td>Cecilia Velasco</td>\n",
       "      <td>cecilia.velasco@rodrigues.fr</td>\n",
       "    </tr>\n",
       "    <tr>\n",
       "      <th>1</th>\n",
       "      <td>3765</td>\n",
       "      <td>Mariana Ellis</td>\n",
       "      <td>mariana.ellis@rossi.org</td>\n",
       "    </tr>\n",
       "    <tr>\n",
       "      <th>2</th>\n",
       "      <td>4187</td>\n",
       "      <td>Sofie Woods</td>\n",
       "      <td>sofie.woods@riviere.com</td>\n",
       "    </tr>\n",
       "    <tr>\n",
       "      <th>3</th>\n",
       "      <td>4941</td>\n",
       "      <td>Jeanette Iannotti</td>\n",
       "      <td>jeanette.iannotti@yahoo.com</td>\n",
       "    </tr>\n",
       "    <tr>\n",
       "      <th>4</th>\n",
       "      <td>2199</td>\n",
       "      <td>Samuel Sorgatz</td>\n",
       "      <td>samuel.sorgatz@gmail.com</td>\n",
       "    </tr>\n",
       "  </tbody>\n",
       "</table>\n",
       "</div>"
      ],
      "text/plain": [
       "   contact_id               name                         email\n",
       "0        4661    Cecilia Velasco  cecilia.velasco@rodrigues.fr\n",
       "1        3765      Mariana Ellis       mariana.ellis@rossi.org\n",
       "2        4187        Sofie Woods       sofie.woods@riviere.com\n",
       "3        4941  Jeanette Iannotti   jeanette.iannotti@yahoo.com\n",
       "4        2199     Samuel Sorgatz      samuel.sorgatz@gmail.com"
      ]
     },
     "execution_count": 25,
     "metadata": {},
     "output_type": "execute_result"
    }
   ],
   "source": [
    "# Create a contact_info DataFrame and add each list of values, i.e., each row \n",
    "# to the 'contact_id', 'name', 'email' columns.\n"
   ]
  },
  {
   "cell_type": "code",
   "execution_count": 26,
   "metadata": {},
   "outputs": [
    {
     "name": "stdout",
     "output_type": "stream",
     "text": [
      "<class 'pandas.core.frame.DataFrame'>\n",
      "RangeIndex: 1000 entries, 0 to 999\n",
      "Data columns (total 3 columns):\n",
      " #   Column      Non-Null Count  Dtype \n",
      "---  ------      --------------  ----- \n",
      " 0   contact_id  1000 non-null   int64 \n",
      " 1   name        1000 non-null   object\n",
      " 2   email       1000 non-null   object\n",
      "dtypes: int64(1), object(2)\n",
      "memory usage: 23.6+ KB\n"
     ]
    }
   ],
   "source": [
    "# Check the datatypes.\n"
   ]
  },
  {
   "cell_type": "code",
   "execution_count": 27,
   "metadata": {},
   "outputs": [
    {
     "data": {
      "text/html": [
       "<div>\n",
       "<style scoped>\n",
       "    .dataframe tbody tr th:only-of-type {\n",
       "        vertical-align: middle;\n",
       "    }\n",
       "\n",
       "    .dataframe tbody tr th {\n",
       "        vertical-align: top;\n",
       "    }\n",
       "\n",
       "    .dataframe thead th {\n",
       "        text-align: right;\n",
       "    }\n",
       "</style>\n",
       "<table border=\"1\" class=\"dataframe\">\n",
       "  <thead>\n",
       "    <tr style=\"text-align: right;\">\n",
       "      <th></th>\n",
       "      <th>contact_id</th>\n",
       "      <th>email</th>\n",
       "      <th>first_name</th>\n",
       "      <th>last_name</th>\n",
       "    </tr>\n",
       "  </thead>\n",
       "  <tbody>\n",
       "    <tr>\n",
       "      <th>0</th>\n",
       "      <td>4661</td>\n",
       "      <td>cecilia.velasco@rodrigues.fr</td>\n",
       "      <td>Cecilia</td>\n",
       "      <td>Velasco</td>\n",
       "    </tr>\n",
       "    <tr>\n",
       "      <th>1</th>\n",
       "      <td>3765</td>\n",
       "      <td>mariana.ellis@rossi.org</td>\n",
       "      <td>Mariana</td>\n",
       "      <td>Ellis</td>\n",
       "    </tr>\n",
       "    <tr>\n",
       "      <th>2</th>\n",
       "      <td>4187</td>\n",
       "      <td>sofie.woods@riviere.com</td>\n",
       "      <td>Sofie</td>\n",
       "      <td>Woods</td>\n",
       "    </tr>\n",
       "    <tr>\n",
       "      <th>3</th>\n",
       "      <td>4941</td>\n",
       "      <td>jeanette.iannotti@yahoo.com</td>\n",
       "      <td>Jeanette</td>\n",
       "      <td>Iannotti</td>\n",
       "    </tr>\n",
       "    <tr>\n",
       "      <th>4</th>\n",
       "      <td>2199</td>\n",
       "      <td>samuel.sorgatz@gmail.com</td>\n",
       "      <td>Samuel</td>\n",
       "      <td>Sorgatz</td>\n",
       "    </tr>\n",
       "    <tr>\n",
       "      <th>5</th>\n",
       "      <td>5650</td>\n",
       "      <td>socorro.luna@hotmail.com</td>\n",
       "      <td>Socorro</td>\n",
       "      <td>Luna</td>\n",
       "    </tr>\n",
       "    <tr>\n",
       "      <th>6</th>\n",
       "      <td>5889</td>\n",
       "      <td>carolina.murray@knight.com</td>\n",
       "      <td>Carolina</td>\n",
       "      <td>Murray</td>\n",
       "    </tr>\n",
       "    <tr>\n",
       "      <th>7</th>\n",
       "      <td>4842</td>\n",
       "      <td>kayla.moon@yahoo.de</td>\n",
       "      <td>Kayla</td>\n",
       "      <td>Moon</td>\n",
       "    </tr>\n",
       "    <tr>\n",
       "      <th>8</th>\n",
       "      <td>3280</td>\n",
       "      <td>ariadna.geisel@rangel.com</td>\n",
       "      <td>Ariadna</td>\n",
       "      <td>Geisel</td>\n",
       "    </tr>\n",
       "    <tr>\n",
       "      <th>9</th>\n",
       "      <td>5468</td>\n",
       "      <td>danielle.ladeck@scalfaro.net</td>\n",
       "      <td>Danielle</td>\n",
       "      <td>Ladeck</td>\n",
       "    </tr>\n",
       "  </tbody>\n",
       "</table>\n",
       "</div>"
      ],
      "text/plain": [
       "   contact_id                         email first_name last_name\n",
       "0        4661  cecilia.velasco@rodrigues.fr    Cecilia   Velasco\n",
       "1        3765       mariana.ellis@rossi.org    Mariana     Ellis\n",
       "2        4187       sofie.woods@riviere.com      Sofie     Woods\n",
       "3        4941   jeanette.iannotti@yahoo.com   Jeanette  Iannotti\n",
       "4        2199      samuel.sorgatz@gmail.com     Samuel   Sorgatz\n",
       "5        5650      socorro.luna@hotmail.com    Socorro      Luna\n",
       "6        5889    carolina.murray@knight.com   Carolina    Murray\n",
       "7        4842           kayla.moon@yahoo.de      Kayla      Moon\n",
       "8        3280     ariadna.geisel@rangel.com    Ariadna    Geisel\n",
       "9        5468  danielle.ladeck@scalfaro.net   Danielle    Ladeck"
      ]
     },
     "execution_count": 27,
     "metadata": {},
     "output_type": "execute_result"
    }
   ],
   "source": [
    "# Create a \"first\"name\" and \"last_name\" column with the first and last names from the \"name\" column. \n",
    "\n",
    "\n",
    "# Drop the contact_name column\n",
    "\n"
   ]
  },
  {
   "cell_type": "code",
   "execution_count": 28,
   "metadata": {},
   "outputs": [
    {
     "data": {
      "text/html": [
       "<div>\n",
       "<style scoped>\n",
       "    .dataframe tbody tr th:only-of-type {\n",
       "        vertical-align: middle;\n",
       "    }\n",
       "\n",
       "    .dataframe tbody tr th {\n",
       "        vertical-align: top;\n",
       "    }\n",
       "\n",
       "    .dataframe thead th {\n",
       "        text-align: right;\n",
       "    }\n",
       "</style>\n",
       "<table border=\"1\" class=\"dataframe\">\n",
       "  <thead>\n",
       "    <tr style=\"text-align: right;\">\n",
       "      <th></th>\n",
       "      <th>contact_id</th>\n",
       "      <th>first_name</th>\n",
       "      <th>last_name</th>\n",
       "      <th>email</th>\n",
       "    </tr>\n",
       "  </thead>\n",
       "  <tbody>\n",
       "    <tr>\n",
       "      <th>0</th>\n",
       "      <td>4661</td>\n",
       "      <td>Cecilia</td>\n",
       "      <td>Velasco</td>\n",
       "      <td>cecilia.velasco@rodrigues.fr</td>\n",
       "    </tr>\n",
       "    <tr>\n",
       "      <th>1</th>\n",
       "      <td>3765</td>\n",
       "      <td>Mariana</td>\n",
       "      <td>Ellis</td>\n",
       "      <td>mariana.ellis@rossi.org</td>\n",
       "    </tr>\n",
       "    <tr>\n",
       "      <th>2</th>\n",
       "      <td>4187</td>\n",
       "      <td>Sofie</td>\n",
       "      <td>Woods</td>\n",
       "      <td>sofie.woods@riviere.com</td>\n",
       "    </tr>\n",
       "    <tr>\n",
       "      <th>3</th>\n",
       "      <td>4941</td>\n",
       "      <td>Jeanette</td>\n",
       "      <td>Iannotti</td>\n",
       "      <td>jeanette.iannotti@yahoo.com</td>\n",
       "    </tr>\n",
       "    <tr>\n",
       "      <th>4</th>\n",
       "      <td>2199</td>\n",
       "      <td>Samuel</td>\n",
       "      <td>Sorgatz</td>\n",
       "      <td>samuel.sorgatz@gmail.com</td>\n",
       "    </tr>\n",
       "    <tr>\n",
       "      <th>5</th>\n",
       "      <td>5650</td>\n",
       "      <td>Socorro</td>\n",
       "      <td>Luna</td>\n",
       "      <td>socorro.luna@hotmail.com</td>\n",
       "    </tr>\n",
       "    <tr>\n",
       "      <th>6</th>\n",
       "      <td>5889</td>\n",
       "      <td>Carolina</td>\n",
       "      <td>Murray</td>\n",
       "      <td>carolina.murray@knight.com</td>\n",
       "    </tr>\n",
       "    <tr>\n",
       "      <th>7</th>\n",
       "      <td>4842</td>\n",
       "      <td>Kayla</td>\n",
       "      <td>Moon</td>\n",
       "      <td>kayla.moon@yahoo.de</td>\n",
       "    </tr>\n",
       "    <tr>\n",
       "      <th>8</th>\n",
       "      <td>3280</td>\n",
       "      <td>Ariadna</td>\n",
       "      <td>Geisel</td>\n",
       "      <td>ariadna.geisel@rangel.com</td>\n",
       "    </tr>\n",
       "    <tr>\n",
       "      <th>9</th>\n",
       "      <td>5468</td>\n",
       "      <td>Danielle</td>\n",
       "      <td>Ladeck</td>\n",
       "      <td>danielle.ladeck@scalfaro.net</td>\n",
       "    </tr>\n",
       "  </tbody>\n",
       "</table>\n",
       "</div>"
      ],
      "text/plain": [
       "   contact_id first_name last_name                         email\n",
       "0        4661    Cecilia   Velasco  cecilia.velasco@rodrigues.fr\n",
       "1        3765    Mariana     Ellis       mariana.ellis@rossi.org\n",
       "2        4187      Sofie     Woods       sofie.woods@riviere.com\n",
       "3        4941   Jeanette  Iannotti   jeanette.iannotti@yahoo.com\n",
       "4        2199     Samuel   Sorgatz      samuel.sorgatz@gmail.com\n",
       "5        5650    Socorro      Luna      socorro.luna@hotmail.com\n",
       "6        5889   Carolina    Murray    carolina.murray@knight.com\n",
       "7        4842      Kayla      Moon           kayla.moon@yahoo.de\n",
       "8        3280    Ariadna    Geisel     ariadna.geisel@rangel.com\n",
       "9        5468   Danielle    Ladeck  danielle.ladeck@scalfaro.net"
      ]
     },
     "execution_count": 28,
     "metadata": {},
     "output_type": "execute_result"
    }
   ],
   "source": [
    "# Reorder the columns\n"
   ]
  },
  {
   "cell_type": "code",
   "execution_count": 29,
   "metadata": {},
   "outputs": [
    {
     "name": "stdout",
     "output_type": "stream",
     "text": [
      "<class 'pandas.core.frame.DataFrame'>\n",
      "RangeIndex: 1000 entries, 0 to 999\n",
      "Data columns (total 4 columns):\n",
      " #   Column      Non-Null Count  Dtype \n",
      "---  ------      --------------  ----- \n",
      " 0   contact_id  1000 non-null   int64 \n",
      " 1   first_name  1000 non-null   object\n",
      " 2   last_name   1000 non-null   object\n",
      " 3   email       1000 non-null   object\n",
      "dtypes: int64(1), object(3)\n",
      "memory usage: 31.4+ KB\n"
     ]
    }
   ],
   "source": [
    "# Check the datatypes one more time before exporting as CSV file.\n"
   ]
  },
  {
   "cell_type": "code",
   "execution_count": 30,
   "metadata": {},
   "outputs": [],
   "source": [
    "# Export the DataFrame as a CSV file. \n",
    "contacts_df_clean.to_csv(\"Resources/contacts.csv\", encoding='utf8', index=False)"
   ]
  },
  {
   "cell_type": "markdown",
   "metadata": {},
   "source": [
    "### Option 2: Use regex to create the contacts DataFrame."
   ]
  },
  {
   "cell_type": "code",
   "execution_count": 41,
   "metadata": {
    "ExecuteTime": {
     "start_time": "2023-06-26T12:55:30.781906Z",
     "end_time": "2023-06-26T12:55:30.801925Z"
    }
   },
   "outputs": [
    {
     "data": {
      "text/plain": "                                                                                            \n0                                                                               contact_info\n1   {\"contact_id\": 4661, \"name\": \"Cecilia Velasco\", \"email\": \"cecilia.velasco@rodrigues.fr\"}\n2          {\"contact_id\": 3765, \"name\": \"Mariana Ellis\", \"email\": \"mariana.ellis@rossi.org\"}\n3            {\"contact_id\": 4187, \"name\": \"Sofie Woods\", \"email\": \"sofie.woods@riviere.com\"}\n4  {\"contact_id\": 4941, \"name\": \"Jeanette Iannotti\", \"email\": \"jeanette.iannotti@yahoo.com\"}",
      "text/html": "<div>\n<style scoped>\n    .dataframe tbody tr th:only-of-type {\n        vertical-align: middle;\n    }\n\n    .dataframe tbody tr th {\n        vertical-align: top;\n    }\n\n    .dataframe thead th {\n        text-align: right;\n    }\n</style>\n<table border=\"1\" class=\"dataframe\">\n  <thead>\n    <tr style=\"text-align: right;\">\n      <th></th>\n      <th></th>\n    </tr>\n  </thead>\n  <tbody>\n    <tr>\n      <th>0</th>\n      <td>contact_info</td>\n    </tr>\n    <tr>\n      <th>1</th>\n      <td>{\"contact_id\": 4661, \"name\": \"Cecilia Velasco\", \"email\": \"cecilia.velasco@rodrigues.fr\"}</td>\n    </tr>\n    <tr>\n      <th>2</th>\n      <td>{\"contact_id\": 3765, \"name\": \"Mariana Ellis\", \"email\": \"mariana.ellis@rossi.org\"}</td>\n    </tr>\n    <tr>\n      <th>3</th>\n      <td>{\"contact_id\": 4187, \"name\": \"Sofie Woods\", \"email\": \"sofie.woods@riviere.com\"}</td>\n    </tr>\n    <tr>\n      <th>4</th>\n      <td>{\"contact_id\": 4941, \"name\": \"Jeanette Iannotti\", \"email\": \"jeanette.iannotti@yahoo.com\"}</td>\n    </tr>\n  </tbody>\n</table>\n</div>"
     },
     "execution_count": 41,
     "metadata": {},
     "output_type": "execute_result"
    }
   ],
   "source": [
    "contact_info_df_copy = contact_info_df.copy()\n",
    "contact_info_df_copy.head()"
   ]
  },
  {
   "cell_type": "code",
   "execution_count": 71,
   "outputs": [
    {
     "data": {
      "text/plain": "      contact_id                             name  \\\n1           4661        \"name\": \"Cecilia Velasco\"   \n2           3765          \"name\": \"Mariana Ellis\"   \n3           4187            \"name\": \"Sofie Woods\"   \n4           4941      \"name\": \"Jeanette Iannotti\"   \n5           2199         \"name\": \"Samuel Sorgatz\"   \n...          ...                              ...   \n996         3684          \"name\": \"Whitney Noack\"   \n997         5784   \"name\": \"Gelsomina Migliaccio\"   \n998         1498    \"name\": \"Evangelista Pereira\"   \n999         6073         \"name\": \"Gareth Comolli\"   \n1000        4939      \"name\": \"Michelangelo Hess\"   \n\n                                                       email  \n1                   \"email\": \"cecilia.velasco@rodrigues.fr\"}  \n2                        \"email\": \"mariana.ellis@rossi.org\"}  \n3                        \"email\": \"sofie.woods@riviere.com\"}  \n4                    \"email\": \"jeanette.iannotti@yahoo.com\"}  \n5                       \"email\": \"samuel.sorgatz@gmail.com\"}  \n...                                                      ...  \n996               \"email\": \"whitney.noack@laboratorios.org\"}  \n997                \"email\": \"gelsomina.migliaccio@junk.com\"}  \n998    \"email\": \"evangelista.pereira@thompson-peterson.biz\"}  \n999                    \"email\": \"gareth.comolli@tiscali.fr\"}  \n1000               \"email\": \"michelangelo.hess@bouygtel.fr\"}  \n\n[1000 rows x 3 columns]",
      "text/html": "<div>\n<style scoped>\n    .dataframe tbody tr th:only-of-type {\n        vertical-align: middle;\n    }\n\n    .dataframe tbody tr th {\n        vertical-align: top;\n    }\n\n    .dataframe thead th {\n        text-align: right;\n    }\n</style>\n<table border=\"1\" class=\"dataframe\">\n  <thead>\n    <tr style=\"text-align: right;\">\n      <th></th>\n      <th>contact_id</th>\n      <th>name</th>\n      <th>email</th>\n    </tr>\n  </thead>\n  <tbody>\n    <tr>\n      <th>1</th>\n      <td>4661</td>\n      <td>\"name\": \"Cecilia Velasco\"</td>\n      <td>\"email\": \"cecilia.velasco@rodrigues.fr\"}</td>\n    </tr>\n    <tr>\n      <th>2</th>\n      <td>3765</td>\n      <td>\"name\": \"Mariana Ellis\"</td>\n      <td>\"email\": \"mariana.ellis@rossi.org\"}</td>\n    </tr>\n    <tr>\n      <th>3</th>\n      <td>4187</td>\n      <td>\"name\": \"Sofie Woods\"</td>\n      <td>\"email\": \"sofie.woods@riviere.com\"}</td>\n    </tr>\n    <tr>\n      <th>4</th>\n      <td>4941</td>\n      <td>\"name\": \"Jeanette Iannotti\"</td>\n      <td>\"email\": \"jeanette.iannotti@yahoo.com\"}</td>\n    </tr>\n    <tr>\n      <th>5</th>\n      <td>2199</td>\n      <td>\"name\": \"Samuel Sorgatz\"</td>\n      <td>\"email\": \"samuel.sorgatz@gmail.com\"}</td>\n    </tr>\n    <tr>\n      <th>...</th>\n      <td>...</td>\n      <td>...</td>\n      <td>...</td>\n    </tr>\n    <tr>\n      <th>996</th>\n      <td>3684</td>\n      <td>\"name\": \"Whitney Noack\"</td>\n      <td>\"email\": \"whitney.noack@laboratorios.org\"}</td>\n    </tr>\n    <tr>\n      <th>997</th>\n      <td>5784</td>\n      <td>\"name\": \"Gelsomina Migliaccio\"</td>\n      <td>\"email\": \"gelsomina.migliaccio@junk.com\"}</td>\n    </tr>\n    <tr>\n      <th>998</th>\n      <td>1498</td>\n      <td>\"name\": \"Evangelista Pereira\"</td>\n      <td>\"email\": \"evangelista.pereira@thompson-peterson.biz\"}</td>\n    </tr>\n    <tr>\n      <th>999</th>\n      <td>6073</td>\n      <td>\"name\": \"Gareth Comolli\"</td>\n      <td>\"email\": \"gareth.comolli@tiscali.fr\"}</td>\n    </tr>\n    <tr>\n      <th>1000</th>\n      <td>4939</td>\n      <td>\"name\": \"Michelangelo Hess\"</td>\n      <td>\"email\": \"michelangelo.hess@bouygtel.fr\"}</td>\n    </tr>\n  </tbody>\n</table>\n<p>1000 rows × 3 columns</p>\n</div>"
     },
     "execution_count": 71,
     "metadata": {},
     "output_type": "execute_result"
    }
   ],
   "source": [
    "contacts"
   ],
   "metadata": {
    "collapsed": false,
    "ExecuteTime": {
     "start_time": "2023-06-26T13:14:09.228905Z",
     "end_time": "2023-06-26T13:14:09.243919Z"
    }
   }
  },
  {
   "cell_type": "code",
   "execution_count": 72,
   "metadata": {
    "ExecuteTime": {
     "start_time": "2023-06-26T13:15:05.591906Z",
     "end_time": "2023-06-26T13:15:05.608923Z"
    }
   },
   "outputs": [
    {
     "data": {
      "text/plain": "      contact_id                  name  \\\n1           4661       Cecilia Velasco   \n2           3765         Mariana Ellis   \n3           4187           Sofie Woods   \n4           4941     Jeanette Iannotti   \n5           2199        Samuel Sorgatz   \n...          ...                   ...   \n996         3684         Whitney Noack   \n997         5784  Gelsomina Migliaccio   \n998         1498   Evangelista Pereira   \n999         6073        Gareth Comolli   \n1000        4939     Michelangelo Hess   \n\n                                                       email  \n1                   \"email\": \"cecilia.velasco@rodrigues.fr\"}  \n2                        \"email\": \"mariana.ellis@rossi.org\"}  \n3                        \"email\": \"sofie.woods@riviere.com\"}  \n4                    \"email\": \"jeanette.iannotti@yahoo.com\"}  \n5                       \"email\": \"samuel.sorgatz@gmail.com\"}  \n...                                                      ...  \n996               \"email\": \"whitney.noack@laboratorios.org\"}  \n997                \"email\": \"gelsomina.migliaccio@junk.com\"}  \n998    \"email\": \"evangelista.pereira@thompson-peterson.biz\"}  \n999                    \"email\": \"gareth.comolli@tiscali.fr\"}  \n1000               \"email\": \"michelangelo.hess@bouygtel.fr\"}  \n\n[1000 rows x 3 columns]",
      "text/html": "<div>\n<style scoped>\n    .dataframe tbody tr th:only-of-type {\n        vertical-align: middle;\n    }\n\n    .dataframe tbody tr th {\n        vertical-align: top;\n    }\n\n    .dataframe thead th {\n        text-align: right;\n    }\n</style>\n<table border=\"1\" class=\"dataframe\">\n  <thead>\n    <tr style=\"text-align: right;\">\n      <th></th>\n      <th>contact_id</th>\n      <th>name</th>\n      <th>email</th>\n    </tr>\n  </thead>\n  <tbody>\n    <tr>\n      <th>1</th>\n      <td>4661</td>\n      <td>Cecilia Velasco</td>\n      <td>\"email\": \"cecilia.velasco@rodrigues.fr\"}</td>\n    </tr>\n    <tr>\n      <th>2</th>\n      <td>3765</td>\n      <td>Mariana Ellis</td>\n      <td>\"email\": \"mariana.ellis@rossi.org\"}</td>\n    </tr>\n    <tr>\n      <th>3</th>\n      <td>4187</td>\n      <td>Sofie Woods</td>\n      <td>\"email\": \"sofie.woods@riviere.com\"}</td>\n    </tr>\n    <tr>\n      <th>4</th>\n      <td>4941</td>\n      <td>Jeanette Iannotti</td>\n      <td>\"email\": \"jeanette.iannotti@yahoo.com\"}</td>\n    </tr>\n    <tr>\n      <th>5</th>\n      <td>2199</td>\n      <td>Samuel Sorgatz</td>\n      <td>\"email\": \"samuel.sorgatz@gmail.com\"}</td>\n    </tr>\n    <tr>\n      <th>...</th>\n      <td>...</td>\n      <td>...</td>\n      <td>...</td>\n    </tr>\n    <tr>\n      <th>996</th>\n      <td>3684</td>\n      <td>Whitney Noack</td>\n      <td>\"email\": \"whitney.noack@laboratorios.org\"}</td>\n    </tr>\n    <tr>\n      <th>997</th>\n      <td>5784</td>\n      <td>Gelsomina Migliaccio</td>\n      <td>\"email\": \"gelsomina.migliaccio@junk.com\"}</td>\n    </tr>\n    <tr>\n      <th>998</th>\n      <td>1498</td>\n      <td>Evangelista Pereira</td>\n      <td>\"email\": \"evangelista.pereira@thompson-peterson.biz\"}</td>\n    </tr>\n    <tr>\n      <th>999</th>\n      <td>6073</td>\n      <td>Gareth Comolli</td>\n      <td>\"email\": \"gareth.comolli@tiscali.fr\"}</td>\n    </tr>\n    <tr>\n      <th>1000</th>\n      <td>4939</td>\n      <td>Michelangelo Hess</td>\n      <td>\"email\": \"michelangelo.hess@bouygtel.fr\"}</td>\n    </tr>\n  </tbody>\n</table>\n<p>1000 rows × 3 columns</p>\n</div>"
     },
     "execution_count": 72,
     "metadata": {},
     "output_type": "execute_result"
    }
   ],
   "source": [
    "# Extract the four-digit contact ID number.\n"
   ]
  },
  {
   "cell_type": "code",
   "execution_count": 33,
   "metadata": {},
   "outputs": [
    {
     "name": "stdout",
     "output_type": "stream",
     "text": [
      "<class 'pandas.core.frame.DataFrame'>\n",
      "RangeIndex: 1000 entries, 0 to 999\n",
      "Data columns (total 2 columns):\n",
      " #   Column        Non-Null Count  Dtype \n",
      "---  ------        --------------  ----- \n",
      " 0   contact_info  1000 non-null   object\n",
      " 1   contact_id    1000 non-null   object\n",
      "dtypes: object(2)\n",
      "memory usage: 15.8+ KB\n"
     ]
    }
   ],
   "source": [
    "# Check the datatypes.\n"
   ]
  },
  {
   "cell_type": "code",
   "execution_count": 34,
   "metadata": {},
   "outputs": [
    {
     "name": "stdout",
     "output_type": "stream",
     "text": [
      "<class 'pandas.core.frame.DataFrame'>\n",
      "RangeIndex: 1000 entries, 0 to 999\n",
      "Data columns (total 2 columns):\n",
      " #   Column        Non-Null Count  Dtype \n",
      "---  ------        --------------  ----- \n",
      " 0   contact_info  1000 non-null   object\n",
      " 1   contact_id    1000 non-null   int64 \n",
      "dtypes: int64(1), object(1)\n",
      "memory usage: 15.8+ KB\n"
     ]
    }
   ],
   "source": [
    "# Convert the \"contact_id\" column to an int64 data type.\n"
   ]
  },
  {
   "cell_type": "code",
   "execution_count": 35,
   "metadata": {},
   "outputs": [
    {
     "data": {
      "text/html": [
       "<div>\n",
       "<style scoped>\n",
       "    .dataframe tbody tr th:only-of-type {\n",
       "        vertical-align: middle;\n",
       "    }\n",
       "\n",
       "    .dataframe tbody tr th {\n",
       "        vertical-align: top;\n",
       "    }\n",
       "\n",
       "    .dataframe thead th {\n",
       "        text-align: right;\n",
       "    }\n",
       "</style>\n",
       "<table border=\"1\" class=\"dataframe\">\n",
       "  <thead>\n",
       "    <tr style=\"text-align: right;\">\n",
       "      <th></th>\n",
       "      <th>contact_info</th>\n",
       "      <th>contact_id</th>\n",
       "      <th>name</th>\n",
       "    </tr>\n",
       "  </thead>\n",
       "  <tbody>\n",
       "    <tr>\n",
       "      <th>0</th>\n",
       "      <td>{\"contact_id\": 4661, \"name\": \"Cecilia Velasco\", \"email\": \"cecilia.velasco@rodrigues.fr\"}</td>\n",
       "      <td>4661</td>\n",
       "      <td>Cecilia Velasco</td>\n",
       "    </tr>\n",
       "    <tr>\n",
       "      <th>1</th>\n",
       "      <td>{\"contact_id\": 3765, \"name\": \"Mariana Ellis\", \"email\": \"mariana.ellis@rossi.org\"}</td>\n",
       "      <td>3765</td>\n",
       "      <td>Mariana Ellis</td>\n",
       "    </tr>\n",
       "    <tr>\n",
       "      <th>2</th>\n",
       "      <td>{\"contact_id\": 4187, \"name\": \"Sofie Woods\", \"email\": \"sofie.woods@riviere.com\"}</td>\n",
       "      <td>4187</td>\n",
       "      <td>Sofie Woods</td>\n",
       "    </tr>\n",
       "    <tr>\n",
       "      <th>3</th>\n",
       "      <td>{\"contact_id\": 4941, \"name\": \"Jeanette Iannotti\", \"email\": \"jeanette.iannotti@yahoo.com\"}</td>\n",
       "      <td>4941</td>\n",
       "      <td>Jeanette Iannotti</td>\n",
       "    </tr>\n",
       "    <tr>\n",
       "      <th>4</th>\n",
       "      <td>{\"contact_id\": 2199, \"name\": \"Samuel Sorgatz\", \"email\": \"samuel.sorgatz@gmail.com\"}</td>\n",
       "      <td>2199</td>\n",
       "      <td>Samuel Sorgatz</td>\n",
       "    </tr>\n",
       "    <tr>\n",
       "      <th>5</th>\n",
       "      <td>{\"contact_id\": 5650, \"name\": \"Socorro Luna\", \"email\": \"socorro.luna@hotmail.com\"}</td>\n",
       "      <td>5650</td>\n",
       "      <td>Socorro Luna</td>\n",
       "    </tr>\n",
       "    <tr>\n",
       "      <th>6</th>\n",
       "      <td>{\"contact_id\": 5889, \"name\": \"Carolina Murray\", \"email\": \"carolina.murray@knight.com\"}</td>\n",
       "      <td>5889</td>\n",
       "      <td>Carolina Murray</td>\n",
       "    </tr>\n",
       "    <tr>\n",
       "      <th>7</th>\n",
       "      <td>{\"contact_id\": 4842, \"name\": \"Kayla Moon\", \"email\": \"kayla.moon@yahoo.de\"}</td>\n",
       "      <td>4842</td>\n",
       "      <td>Kayla Moon</td>\n",
       "    </tr>\n",
       "    <tr>\n",
       "      <th>8</th>\n",
       "      <td>{\"contact_id\": 3280, \"name\": \"Ariadna Geisel\", \"email\": \"ariadna.geisel@rangel.com\"}</td>\n",
       "      <td>3280</td>\n",
       "      <td>Ariadna Geisel</td>\n",
       "    </tr>\n",
       "    <tr>\n",
       "      <th>9</th>\n",
       "      <td>{\"contact_id\": 5468, \"name\": \"Danielle Ladeck\", \"email\": \"danielle.ladeck@scalfaro.net\"}</td>\n",
       "      <td>5468</td>\n",
       "      <td>Danielle Ladeck</td>\n",
       "    </tr>\n",
       "  </tbody>\n",
       "</table>\n",
       "</div>"
      ],
      "text/plain": [
       "                                                                                contact_info  \\\n",
       "0   {\"contact_id\": 4661, \"name\": \"Cecilia Velasco\", \"email\": \"cecilia.velasco@rodrigues.fr\"}   \n",
       "1          {\"contact_id\": 3765, \"name\": \"Mariana Ellis\", \"email\": \"mariana.ellis@rossi.org\"}   \n",
       "2            {\"contact_id\": 4187, \"name\": \"Sofie Woods\", \"email\": \"sofie.woods@riviere.com\"}   \n",
       "3  {\"contact_id\": 4941, \"name\": \"Jeanette Iannotti\", \"email\": \"jeanette.iannotti@yahoo.com\"}   \n",
       "4        {\"contact_id\": 2199, \"name\": \"Samuel Sorgatz\", \"email\": \"samuel.sorgatz@gmail.com\"}   \n",
       "5          {\"contact_id\": 5650, \"name\": \"Socorro Luna\", \"email\": \"socorro.luna@hotmail.com\"}   \n",
       "6     {\"contact_id\": 5889, \"name\": \"Carolina Murray\", \"email\": \"carolina.murray@knight.com\"}   \n",
       "7                 {\"contact_id\": 4842, \"name\": \"Kayla Moon\", \"email\": \"kayla.moon@yahoo.de\"}   \n",
       "8       {\"contact_id\": 3280, \"name\": \"Ariadna Geisel\", \"email\": \"ariadna.geisel@rangel.com\"}   \n",
       "9   {\"contact_id\": 5468, \"name\": \"Danielle Ladeck\", \"email\": \"danielle.ladeck@scalfaro.net\"}   \n",
       "\n",
       "   contact_id               name  \n",
       "0        4661    Cecilia Velasco  \n",
       "1        3765      Mariana Ellis  \n",
       "2        4187        Sofie Woods  \n",
       "3        4941  Jeanette Iannotti  \n",
       "4        2199     Samuel Sorgatz  \n",
       "5        5650       Socorro Luna  \n",
       "6        5889    Carolina Murray  \n",
       "7        4842         Kayla Moon  \n",
       "8        3280     Ariadna Geisel  \n",
       "9        5468    Danielle Ladeck  "
      ]
     },
     "execution_count": 35,
     "metadata": {},
     "output_type": "execute_result"
    }
   ],
   "source": [
    "# Extract the name of the contact\n",
    "contacts['name'] = contacts['name'].str.extract(r'\"name\": \"([^\"]*)\"')\n",
    "contacts"
   ]
  },
  {
   "cell_type": "code",
   "execution_count": 73,
   "metadata": {
    "ExecuteTime": {
     "start_time": "2023-06-26T13:16:48.549669Z",
     "end_time": "2023-06-26T13:16:48.566686Z"
    }
   },
   "outputs": [
    {
     "data": {
      "text/plain": "      contact_id                  name  \\\n1           4661       Cecilia Velasco   \n2           3765         Mariana Ellis   \n3           4187           Sofie Woods   \n4           4941     Jeanette Iannotti   \n5           2199        Samuel Sorgatz   \n...          ...                   ...   \n996         3684         Whitney Noack   \n997         5784  Gelsomina Migliaccio   \n998         1498   Evangelista Pereira   \n999         6073        Gareth Comolli   \n1000        4939     Michelangelo Hess   \n\n                                          email  \n1                  cecilia.velasco@rodrigues.fr  \n2                       mariana.ellis@rossi.org  \n3                       sofie.woods@riviere.com  \n4                   jeanette.iannotti@yahoo.com  \n5                      samuel.sorgatz@gmail.com  \n...                                         ...  \n996              whitney.noack@laboratorios.org  \n997               gelsomina.migliaccio@junk.com  \n998   evangelista.pereira@thompson-peterson.biz  \n999                   gareth.comolli@tiscali.fr  \n1000              michelangelo.hess@bouygtel.fr  \n\n[1000 rows x 3 columns]",
      "text/html": "<div>\n<style scoped>\n    .dataframe tbody tr th:only-of-type {\n        vertical-align: middle;\n    }\n\n    .dataframe tbody tr th {\n        vertical-align: top;\n    }\n\n    .dataframe thead th {\n        text-align: right;\n    }\n</style>\n<table border=\"1\" class=\"dataframe\">\n  <thead>\n    <tr style=\"text-align: right;\">\n      <th></th>\n      <th>contact_id</th>\n      <th>name</th>\n      <th>email</th>\n    </tr>\n  </thead>\n  <tbody>\n    <tr>\n      <th>1</th>\n      <td>4661</td>\n      <td>Cecilia Velasco</td>\n      <td>cecilia.velasco@rodrigues.fr</td>\n    </tr>\n    <tr>\n      <th>2</th>\n      <td>3765</td>\n      <td>Mariana Ellis</td>\n      <td>mariana.ellis@rossi.org</td>\n    </tr>\n    <tr>\n      <th>3</th>\n      <td>4187</td>\n      <td>Sofie Woods</td>\n      <td>sofie.woods@riviere.com</td>\n    </tr>\n    <tr>\n      <th>4</th>\n      <td>4941</td>\n      <td>Jeanette Iannotti</td>\n      <td>jeanette.iannotti@yahoo.com</td>\n    </tr>\n    <tr>\n      <th>5</th>\n      <td>2199</td>\n      <td>Samuel Sorgatz</td>\n      <td>samuel.sorgatz@gmail.com</td>\n    </tr>\n    <tr>\n      <th>...</th>\n      <td>...</td>\n      <td>...</td>\n      <td>...</td>\n    </tr>\n    <tr>\n      <th>996</th>\n      <td>3684</td>\n      <td>Whitney Noack</td>\n      <td>whitney.noack@laboratorios.org</td>\n    </tr>\n    <tr>\n      <th>997</th>\n      <td>5784</td>\n      <td>Gelsomina Migliaccio</td>\n      <td>gelsomina.migliaccio@junk.com</td>\n    </tr>\n    <tr>\n      <th>998</th>\n      <td>1498</td>\n      <td>Evangelista Pereira</td>\n      <td>evangelista.pereira@thompson-peterson.biz</td>\n    </tr>\n    <tr>\n      <th>999</th>\n      <td>6073</td>\n      <td>Gareth Comolli</td>\n      <td>gareth.comolli@tiscali.fr</td>\n    </tr>\n    <tr>\n      <th>1000</th>\n      <td>4939</td>\n      <td>Michelangelo Hess</td>\n      <td>michelangelo.hess@bouygtel.fr</td>\n    </tr>\n  </tbody>\n</table>\n<p>1000 rows × 3 columns</p>\n</div>"
     },
     "execution_count": 73,
     "metadata": {},
     "output_type": "execute_result"
    }
   ],
   "source": [
    "# Extract the email from the contacts and add the values to a new column.\n",
    "contacts['email'] = contacts['email'].str.extract(r'\"email\": \"([^\"]*)\"')\n",
    "contacts"
   ]
  },
  {
   "cell_type": "code",
   "execution_count": 74,
   "metadata": {
    "ExecuteTime": {
     "start_time": "2023-06-26T13:17:00.083568Z",
     "end_time": "2023-06-26T13:17:00.097580Z"
    }
   },
   "outputs": [
    {
     "data": {
      "text/plain": "      contact_id                  name  \\\n1           4661       Cecilia Velasco   \n2           3765         Mariana Ellis   \n3           4187           Sofie Woods   \n4           4941     Jeanette Iannotti   \n5           2199        Samuel Sorgatz   \n...          ...                   ...   \n996         3684         Whitney Noack   \n997         5784  Gelsomina Migliaccio   \n998         1498   Evangelista Pereira   \n999         6073        Gareth Comolli   \n1000        4939     Michelangelo Hess   \n\n                                          email  \n1                  cecilia.velasco@rodrigues.fr  \n2                       mariana.ellis@rossi.org  \n3                       sofie.woods@riviere.com  \n4                   jeanette.iannotti@yahoo.com  \n5                      samuel.sorgatz@gmail.com  \n...                                         ...  \n996              whitney.noack@laboratorios.org  \n997               gelsomina.migliaccio@junk.com  \n998   evangelista.pereira@thompson-peterson.biz  \n999                   gareth.comolli@tiscali.fr  \n1000              michelangelo.hess@bouygtel.fr  \n\n[1000 rows x 3 columns]",
      "text/html": "<div>\n<style scoped>\n    .dataframe tbody tr th:only-of-type {\n        vertical-align: middle;\n    }\n\n    .dataframe tbody tr th {\n        vertical-align: top;\n    }\n\n    .dataframe thead th {\n        text-align: right;\n    }\n</style>\n<table border=\"1\" class=\"dataframe\">\n  <thead>\n    <tr style=\"text-align: right;\">\n      <th></th>\n      <th>contact_id</th>\n      <th>name</th>\n      <th>email</th>\n    </tr>\n  </thead>\n  <tbody>\n    <tr>\n      <th>1</th>\n      <td>4661</td>\n      <td>Cecilia Velasco</td>\n      <td>cecilia.velasco@rodrigues.fr</td>\n    </tr>\n    <tr>\n      <th>2</th>\n      <td>3765</td>\n      <td>Mariana Ellis</td>\n      <td>mariana.ellis@rossi.org</td>\n    </tr>\n    <tr>\n      <th>3</th>\n      <td>4187</td>\n      <td>Sofie Woods</td>\n      <td>sofie.woods@riviere.com</td>\n    </tr>\n    <tr>\n      <th>4</th>\n      <td>4941</td>\n      <td>Jeanette Iannotti</td>\n      <td>jeanette.iannotti@yahoo.com</td>\n    </tr>\n    <tr>\n      <th>5</th>\n      <td>2199</td>\n      <td>Samuel Sorgatz</td>\n      <td>samuel.sorgatz@gmail.com</td>\n    </tr>\n    <tr>\n      <th>...</th>\n      <td>...</td>\n      <td>...</td>\n      <td>...</td>\n    </tr>\n    <tr>\n      <th>996</th>\n      <td>3684</td>\n      <td>Whitney Noack</td>\n      <td>whitney.noack@laboratorios.org</td>\n    </tr>\n    <tr>\n      <th>997</th>\n      <td>5784</td>\n      <td>Gelsomina Migliaccio</td>\n      <td>gelsomina.migliaccio@junk.com</td>\n    </tr>\n    <tr>\n      <th>998</th>\n      <td>1498</td>\n      <td>Evangelista Pereira</td>\n      <td>evangelista.pereira@thompson-peterson.biz</td>\n    </tr>\n    <tr>\n      <th>999</th>\n      <td>6073</td>\n      <td>Gareth Comolli</td>\n      <td>gareth.comolli@tiscali.fr</td>\n    </tr>\n    <tr>\n      <th>1000</th>\n      <td>4939</td>\n      <td>Michelangelo Hess</td>\n      <td>michelangelo.hess@bouygtel.fr</td>\n    </tr>\n  </tbody>\n</table>\n<p>1000 rows × 3 columns</p>\n</div>"
     },
     "execution_count": 74,
     "metadata": {},
     "output_type": "execute_result"
    }
   ],
   "source": [
    "# Create a copy of the contact_info_df with the 'contact_id', 'name', 'email' columns.\n",
    "contacts"
   ]
  },
  {
   "cell_type": "code",
   "execution_count": 75,
   "metadata": {
    "ExecuteTime": {
     "start_time": "2023-06-26T13:18:46.651949Z",
     "end_time": "2023-06-26T13:18:46.687982Z"
    }
   },
   "outputs": [
    {
     "data": {
      "text/plain": "      contact_id                                      email    first_name  \\\n1           4661               cecilia.velasco@rodrigues.fr       Cecilia   \n2           3765                    mariana.ellis@rossi.org       Mariana   \n3           4187                    sofie.woods@riviere.com         Sofie   \n4           4941                jeanette.iannotti@yahoo.com      Jeanette   \n5           2199                   samuel.sorgatz@gmail.com        Samuel   \n...          ...                                        ...           ...   \n996         3684             whitney.noack@laboratorios.org       Whitney   \n997         5784              gelsomina.migliaccio@junk.com     Gelsomina   \n998         1498  evangelista.pereira@thompson-peterson.biz   Evangelista   \n999         6073                  gareth.comolli@tiscali.fr        Gareth   \n1000        4939              michelangelo.hess@bouygtel.fr  Michelangelo   \n\n       last_name  \n1        Velasco  \n2          Ellis  \n3          Woods  \n4       Iannotti  \n5        Sorgatz  \n...          ...  \n996        Noack  \n997   Migliaccio  \n998      Pereira  \n999      Comolli  \n1000        Hess  \n\n[1000 rows x 4 columns]",
      "text/html": "<div>\n<style scoped>\n    .dataframe tbody tr th:only-of-type {\n        vertical-align: middle;\n    }\n\n    .dataframe tbody tr th {\n        vertical-align: top;\n    }\n\n    .dataframe thead th {\n        text-align: right;\n    }\n</style>\n<table border=\"1\" class=\"dataframe\">\n  <thead>\n    <tr style=\"text-align: right;\">\n      <th></th>\n      <th>contact_id</th>\n      <th>email</th>\n      <th>first_name</th>\n      <th>last_name</th>\n    </tr>\n  </thead>\n  <tbody>\n    <tr>\n      <th>1</th>\n      <td>4661</td>\n      <td>cecilia.velasco@rodrigues.fr</td>\n      <td>Cecilia</td>\n      <td>Velasco</td>\n    </tr>\n    <tr>\n      <th>2</th>\n      <td>3765</td>\n      <td>mariana.ellis@rossi.org</td>\n      <td>Mariana</td>\n      <td>Ellis</td>\n    </tr>\n    <tr>\n      <th>3</th>\n      <td>4187</td>\n      <td>sofie.woods@riviere.com</td>\n      <td>Sofie</td>\n      <td>Woods</td>\n    </tr>\n    <tr>\n      <th>4</th>\n      <td>4941</td>\n      <td>jeanette.iannotti@yahoo.com</td>\n      <td>Jeanette</td>\n      <td>Iannotti</td>\n    </tr>\n    <tr>\n      <th>5</th>\n      <td>2199</td>\n      <td>samuel.sorgatz@gmail.com</td>\n      <td>Samuel</td>\n      <td>Sorgatz</td>\n    </tr>\n    <tr>\n      <th>...</th>\n      <td>...</td>\n      <td>...</td>\n      <td>...</td>\n      <td>...</td>\n    </tr>\n    <tr>\n      <th>996</th>\n      <td>3684</td>\n      <td>whitney.noack@laboratorios.org</td>\n      <td>Whitney</td>\n      <td>Noack</td>\n    </tr>\n    <tr>\n      <th>997</th>\n      <td>5784</td>\n      <td>gelsomina.migliaccio@junk.com</td>\n      <td>Gelsomina</td>\n      <td>Migliaccio</td>\n    </tr>\n    <tr>\n      <th>998</th>\n      <td>1498</td>\n      <td>evangelista.pereira@thompson-peterson.biz</td>\n      <td>Evangelista</td>\n      <td>Pereira</td>\n    </tr>\n    <tr>\n      <th>999</th>\n      <td>6073</td>\n      <td>gareth.comolli@tiscali.fr</td>\n      <td>Gareth</td>\n      <td>Comolli</td>\n    </tr>\n    <tr>\n      <th>1000</th>\n      <td>4939</td>\n      <td>michelangelo.hess@bouygtel.fr</td>\n      <td>Michelangelo</td>\n      <td>Hess</td>\n    </tr>\n  </tbody>\n</table>\n<p>1000 rows × 4 columns</p>\n</div>"
     },
     "execution_count": 75,
     "metadata": {},
     "output_type": "execute_result"
    }
   ],
   "source": [
    "# Create a \"first\"name\" and \"last_name\" column with the first and last names from the \"name\" column. \n",
    "contacts[['first_name', 'last_name']] = contacts['name'].str.split(' ', expand=True)\n",
    "\n",
    "# Drop the contact_name column\n",
    "contacts = contacts.drop(labels='name',axis=1)\n",
    "contacts"
   ]
  },
  {
   "cell_type": "code",
   "execution_count": 77,
   "metadata": {
    "ExecuteTime": {
     "start_time": "2023-06-26T13:19:31.136909Z",
     "end_time": "2023-06-26T13:19:31.145917Z"
    }
   },
   "outputs": [],
   "source": [
    "# Reorder the columns\n",
    "contact_info=contacts[['contact_id', 'first_name', 'last_name' , 'email']]"
   ]
  },
  {
   "cell_type": "code",
   "execution_count": 78,
   "metadata": {
    "ExecuteTime": {
     "start_time": "2023-06-26T13:19:41.317707Z",
     "end_time": "2023-06-26T13:19:41.332720Z"
    }
   },
   "outputs": [
    {
     "name": "stdout",
     "output_type": "stream",
     "text": [
      "<class 'pandas.core.frame.DataFrame'>\n",
      "RangeIndex: 1000 entries, 1 to 1000\n",
      "Data columns (total 4 columns):\n",
      " #   Column      Non-Null Count  Dtype \n",
      "---  ------      --------------  ----- \n",
      " 0   contact_id  1000 non-null   int64 \n",
      " 1   first_name  1000 non-null   object\n",
      " 2   last_name   1000 non-null   object\n",
      " 3   email       1000 non-null   object\n",
      "dtypes: int64(1), object(3)\n",
      "memory usage: 31.4+ KB\n"
     ]
    }
   ],
   "source": [
    "# Check the datatypes one more time before exporting as CSV file.\n",
    "contact_info.info()"
   ]
  },
  {
   "cell_type": "code",
   "execution_count": 79,
   "metadata": {
    "ExecuteTime": {
     "start_time": "2023-06-26T13:20:04.800906Z",
     "end_time": "2023-06-26T13:20:04.808913Z"
    }
   },
   "outputs": [],
   "source": [
    "# Export the DataFrame as a CSV file. \n",
    "# contacts_df_clean.to_csv(\"Resources/contacts.csv\", encoding='utf8', index=False)\n",
    "contact_info.to_csv(\"Resources/contacts.csv\", encoding='utf8', index=False)"
   ]
  },
  {
   "cell_type": "code",
   "execution_count": null,
   "metadata": {},
   "outputs": [],
   "source": []
  }
 ],
 "metadata": {
  "kernelspec": {
   "display_name": "Python 3 (ipykernel)",
   "language": "python",
   "name": "python3"
  },
  "language_info": {
   "codemirror_mode": {
    "name": "ipython",
    "version": 3
   },
   "file_extension": ".py",
   "mimetype": "text/x-python",
   "name": "python",
   "nbconvert_exporter": "python",
   "pygments_lexer": "ipython3",
   "version": "3.10.4"
  }
 },
 "nbformat": 4,
 "nbformat_minor": 4
}
